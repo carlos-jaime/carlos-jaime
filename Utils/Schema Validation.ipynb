{
 "cells": [
  {
   "cell_type": "code",
   "execution_count": 44,
   "id": "c7496392",
   "metadata": {},
   "outputs": [],
   "source": [
    "import jsonschema\n",
    "import json\n",
    "import sys\n",
    "import yaml"
   ]
  },
  {
   "cell_type": "code",
   "execution_count": 21,
   "id": "9e54beb5",
   "metadata": {},
   "outputs": [],
   "source": [
    "json_config_file = r'C:\\Users\\carlos.jaime\\airflow-docker\\airflow\\dags\\DATA_QUALITY_Export_Service\\config\\dag_input_schema.json'"
   ]
  },
  {
   "cell_type": "code",
   "execution_count": 41,
   "id": "febccad0",
   "metadata": {},
   "outputs": [],
   "source": [
    "json_obj = \"{'user': 'federico.ramos@pedidosya.com', 'query': 'SELECT * FROM `peya-food-and-groceries.user_federico_ramos.tableau_marketing_data` TABLESAMPLE SYSTEM (40 PERCENT)'}\".replace(\"'\",'\"')"
   ]
  },
  {
   "cell_type": "code",
   "execution_count": 42,
   "id": "212433a1",
   "metadata": {},
   "outputs": [
    {
     "data": {
      "text/plain": [
       "{'user': 'federico.ramos@pedidosya.com',\n",
       " 'query': 'SELECT * FROM `peya-food-and-groceries.user_federico_ramos.tableau_marketing_data` TABLESAMPLE SYSTEM (40 PERCENT)'}"
      ]
     },
     "execution_count": 42,
     "metadata": {},
     "output_type": "execute_result"
    }
   ],
   "source": [
    "json.loads(json_obj)"
   ]
  },
  {
   "cell_type": "code",
   "execution_count": 36,
   "id": "141a87eb",
   "metadata": {},
   "outputs": [
    {
     "name": "stdout",
     "output_type": "stream",
     "text": [
      "Input parameters Error \n",
      "\n",
      "'{\"user\": \"federico.ramos@pedidosya.com\", \"query\": \"SELECT * FROM `peya-food-and-groceries.user_federico_ramos.tableau_marketing_data` TABLESAMPLE SYSTEM (40 PERCENT)\"}' is not of type 'object'\n",
      "\n",
      "Failed validating 'type' in schema:\n",
      "    {'$schema': 'http://json-schema.org/draft-04/schema#',\n",
      "     'properties': {'compression': {'description': 'The compression type '\n",
      "                                                   'to use for exported '\n",
      "                                                   'files. The default '\n",
      "                                                   'value is GZIP',\n",
      "                                    'type': 'integer'},\n",
      "                    'destination_format': {'description': 'Specifies the '\n",
      "                                                          'type of file to '\n",
      "                                                          'be generated. '\n",
      "                                                          'The schema of '\n",
      "                                                          'the table that '\n",
      "                                                          'you want to '\n",
      "                                                          'export to GCS '\n",
      "                                                          'depends on '\n",
      "                                                          'this. Tables '\n",
      "                                                          'with nested or '\n",
      "                                                          'repeated fields '\n",
      "                                                          'cannot be '\n",
      "                                                          'exported as '\n",
      "                                                          'CSV.',\n",
      "                                           'type': 'integer'},\n",
      "                    'max_bytes_billed': {'description': 'maximum number of '\n",
      "                                                        'bytes allowed to '\n",
      "                                                        'process the query',\n",
      "                                         'type': 'integer'},\n",
      "                    'query': {'description': 'SQL to generate export data',\n",
      "                              'type': 'string'},\n",
      "                    'temporal_expiration_table': {'description': 'temporary '\n",
      "                                                                 'table '\n",
      "                                                                 'expiration '\n",
      "                                                                 'time in '\n",
      "                                                                 'minutes',\n",
      "                                                  'type': 'integer'},\n",
      "                    'user': {'description': 'email of the user who '\n",
      "                                            'generates the sql query',\n",
      "                             'type': 'string'}},\n",
      "     'required': ['query', 'user'],\n",
      "     'title': 'PeyaDataExportService-Executor-Input',\n",
      "     'type': 'object'}\n",
      "\n",
      "On instance:\n",
      "    ('{\"user\": \"federico.ramos@pedidosya.com\", \"query\": \"SELECT * FROM '\n",
      "     '`peya-food-and-groceries.user_federico_ramos.tableau_marketing_data` '\n",
      "     'TABLESAMPLE SYSTEM (40 PERCENT)\"}')\n"
     ]
    }
   ],
   "source": [
    "with open(json_config_file, 'r') as f:\n",
    "    schema_data = f.read()\n",
    "schema = json.loads(schema_data)\n",
    "\n",
    "try:\n",
    "    jsonschema.validate(json_obj, schema)\n",
    "except:\n",
    "    error = f'Input parameters Error \\n\\n{sys.exc_info()[1]}'\n",
    "    print(error)"
   ]
  },
  {
   "cell_type": "code",
   "execution_count": null,
   "id": "8607a82f",
   "metadata": {},
   "outputs": [],
   "source": []
  },
  {
   "cell_type": "code",
   "execution_count": null,
   "id": "18cbb0b4",
   "metadata": {},
   "outputs": [],
   "source": []
  },
  {
   "cell_type": "code",
   "execution_count": 49,
   "id": "0437bdcf",
   "metadata": {},
   "outputs": [],
   "source": [
    "with open(r'C:\\Users\\carlos.jaime\\Repositories\\peya-data-quality-framework\\airflow\\dags\\DATA_QUALITY_Framework\\config\\DATA_VALIDATION_Dags_Executor_Config.yaml') as file:\n",
    "    # The FullLoader parameter handles the conversion from YAML\n",
    "    # scalar values to Python the dictionary format\n",
    "    config_file = yaml.load(file, Loader=yaml.FullLoader)"
   ]
  },
  {
   "cell_type": "code",
   "execution_count": 50,
   "id": "9bfea3f3",
   "metadata": {},
   "outputs": [
    {
     "data": {
      "text/plain": [
       "{'default_arg': [{'start_date': '2021-04-27',\n",
       "   'retries': 3,\n",
       "   'scheduler': None,\n",
       "   'catchup': False,\n",
       "   'owner': 'Data-Quality'}],\n",
       " 'dags': [{'model': 'logistics',\n",
       "   'active': True,\n",
       "   'scheduler': '30 10-21 * * *',\n",
       "   'start_date': '2021-05-31',\n",
       "   'validator_config': {'store_backend_prefix': 'logistics',\n",
       "    'entities_repository': {'type': 'GCS',\n",
       "     'bucket': 'peya-great-expectations-project-pro',\n",
       "     'prefix': 'entities/logistics/'}}},\n",
       "  {'model': 'dmarts',\n",
       "   'active': True,\n",
       "   'scheduler': '30 10-21 * * *',\n",
       "   'start_date': '2021-06-09',\n",
       "   'validator_config': {'store_backend_prefix': 'dmarts',\n",
       "    'entities_repository': {'type': 'GCS',\n",
       "     'bucket': 'peya-great-expectations-project-pro',\n",
       "     'prefix': 'entities/dmarts/'}}}]}"
      ]
     },
     "execution_count": 50,
     "metadata": {},
     "output_type": "execute_result"
    }
   ],
   "source": [
    "config_file"
   ]
  },
  {
   "cell_type": "code",
   "execution_count": 51,
   "id": "0d10ed10",
   "metadata": {},
   "outputs": [
    {
     "name": "stdout",
     "output_type": "stream",
     "text": [
      "{'model': 'logistics', 'active': True, 'scheduler': '30 10-21 * * *', 'start_date': '2021-05-31', 'validator_config': {'store_backend_prefix': 'logistics', 'entities_repository': {'type': 'GCS', 'bucket': 'peya-great-expectations-project-pro', 'prefix': 'entities/logistics/'}}}\n",
      "{'model': 'dmarts', 'active': True, 'scheduler': '30 10-21 * * *', 'start_date': '2021-06-09', 'validator_config': {'store_backend_prefix': 'dmarts', 'entities_repository': {'type': 'GCS', 'bucket': 'peya-great-expectations-project-pro', 'prefix': 'entities/dmarts/'}}}\n"
     ]
    }
   ],
   "source": [
    "for dags_config in config_file['dags']:\n",
    "    print(dags_config)"
   ]
  },
  {
   "cell_type": "code",
   "execution_count": null,
   "id": "6682a43a",
   "metadata": {},
   "outputs": [],
   "source": []
  },
  {
   "cell_type": "code",
   "execution_count": null,
   "id": "25ef2680",
   "metadata": {},
   "outputs": [],
   "source": []
  },
  {
   "cell_type": "code",
   "execution_count": null,
   "id": "b0d3fdfc",
   "metadata": {},
   "outputs": [],
   "source": []
  },
  {
   "cell_type": "code",
   "execution_count": 54,
   "id": "f4cc781e",
   "metadata": {},
   "outputs": [
    {
     "ename": "SyntaxError",
     "evalue": "EOL while scanning string literal (<ipython-input-54-19607a363595>, line 1)",
     "output_type": "error",
     "traceback": [
      "\u001b[1;36m  File \u001b[1;32m\"<ipython-input-54-19607a363595>\"\u001b[1;36m, line \u001b[1;32m1\u001b[0m\n\u001b[1;33m    json_format = '{ \"default_bucket_name\": \"peya-great-expectations-project-pro\",\u001b[0m\n\u001b[1;37m                                                                                  ^\u001b[0m\n\u001b[1;31mSyntaxError\u001b[0m\u001b[1;31m:\u001b[0m EOL while scanning string literal\n"
     ]
    }
   ],
   "source": [
    "json_format = '{ \"default_bucket_name\": \"peya-great-expectations-project-pro\",\n",
    "                         \"default_project_name\": \"peya-data-qlty-pro\",\n",
    "                         \"validations_store_prefix\": \"great_expectations_context/validations\",\n",
    "                         \"expectations_store_prefix\": \"great_expectations_context/expectations\",\n",
    "                         \"data_docs_prefix\": \"great_expectations_context/data_docs\",\n",
    "                         \"checkpoints_store_prefix\": \"great_expectations_context/checkpoints\",\n",
    "                         \"parameters_store_prefix\": \"great_expectations_context/parameters\" }'"
   ]
  },
  {
   "cell_type": "code",
   "execution_count": 53,
   "id": "20f659f4",
   "metadata": {},
   "outputs": [
    {
     "ename": "TypeError",
     "evalue": "the JSON object must be str, bytes or bytearray, not dict",
     "output_type": "error",
     "traceback": [
      "\u001b[1;31m---------------------------------------------------------------------------\u001b[0m",
      "\u001b[1;31mTypeError\u001b[0m                                 Traceback (most recent call last)",
      "\u001b[1;32m<ipython-input-53-0801b1468f58>\u001b[0m in \u001b[0;36m<module>\u001b[1;34m\u001b[0m\n\u001b[1;32m----> 1\u001b[1;33m \u001b[0mjson\u001b[0m\u001b[1;33m.\u001b[0m\u001b[0mloads\u001b[0m\u001b[1;33m(\u001b[0m\u001b[0mjson_format\u001b[0m\u001b[1;33m)\u001b[0m\u001b[1;33m\u001b[0m\u001b[1;33m\u001b[0m\u001b[0m\n\u001b[0m",
      "\u001b[1;32m~\\Anaconda3\\envs\\google-dev\\lib\\json\\__init__.py\u001b[0m in \u001b[0;36mloads\u001b[1;34m(s, encoding, cls, object_hook, parse_float, parse_int, parse_constant, object_pairs_hook, **kw)\u001b[0m\n\u001b[0;32m    339\u001b[0m     \u001b[1;32melse\u001b[0m\u001b[1;33m:\u001b[0m\u001b[1;33m\u001b[0m\u001b[1;33m\u001b[0m\u001b[0m\n\u001b[0;32m    340\u001b[0m         \u001b[1;32mif\u001b[0m \u001b[1;32mnot\u001b[0m \u001b[0misinstance\u001b[0m\u001b[1;33m(\u001b[0m\u001b[0ms\u001b[0m\u001b[1;33m,\u001b[0m \u001b[1;33m(\u001b[0m\u001b[0mbytes\u001b[0m\u001b[1;33m,\u001b[0m \u001b[0mbytearray\u001b[0m\u001b[1;33m)\u001b[0m\u001b[1;33m)\u001b[0m\u001b[1;33m:\u001b[0m\u001b[1;33m\u001b[0m\u001b[1;33m\u001b[0m\u001b[0m\n\u001b[1;32m--> 341\u001b[1;33m             raise TypeError(f'the JSON object must be str, bytes or bytearray, '\n\u001b[0m\u001b[0;32m    342\u001b[0m                             f'not {s.__class__.__name__}')\n\u001b[0;32m    343\u001b[0m         \u001b[0ms\u001b[0m \u001b[1;33m=\u001b[0m \u001b[0ms\u001b[0m\u001b[1;33m.\u001b[0m\u001b[0mdecode\u001b[0m\u001b[1;33m(\u001b[0m\u001b[0mdetect_encoding\u001b[0m\u001b[1;33m(\u001b[0m\u001b[0ms\u001b[0m\u001b[1;33m)\u001b[0m\u001b[1;33m,\u001b[0m \u001b[1;34m'surrogatepass'\u001b[0m\u001b[1;33m)\u001b[0m\u001b[1;33m\u001b[0m\u001b[1;33m\u001b[0m\u001b[0m\n",
      "\u001b[1;31mTypeError\u001b[0m: the JSON object must be str, bytes or bytearray, not dict"
     ]
    }
   ],
   "source": [
    "json.loads(json_format)"
   ]
  },
  {
   "cell_type": "code",
   "execution_count": null,
   "id": "9f147e42",
   "metadata": {},
   "outputs": [],
   "source": []
  }
 ],
 "metadata": {
  "kernelspec": {
   "display_name": "Python 3",
   "language": "python",
   "name": "python3"
  },
  "language_info": {
   "codemirror_mode": {
    "name": "ipython",
    "version": 3
   },
   "file_extension": ".py",
   "mimetype": "text/x-python",
   "name": "python",
   "nbconvert_exporter": "python",
   "pygments_lexer": "ipython3",
   "version": "3.7.7"
  }
 },
 "nbformat": 4,
 "nbformat_minor": 5
}
