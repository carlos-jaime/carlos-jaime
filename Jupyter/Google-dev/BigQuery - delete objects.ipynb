{
 "cells": [
  {
   "cell_type": "code",
   "execution_count": 1,
   "metadata": {
    "ExecuteTime": {
     "end_time": "2021-06-22T03:24:48.077672Z",
     "start_time": "2021-06-22T03:24:48.073669Z"
    }
   },
   "outputs": [],
   "source": [
    "# Print every output from a specific cell\n",
    "from IPython.core.interactiveshell import InteractiveShell\n",
    "InteractiveShell.ast_node_interactivity = \"all\""
   ]
  },
  {
   "cell_type": "code",
   "execution_count": 2,
   "metadata": {
    "ExecuteTime": {
     "end_time": "2021-06-22T03:24:48.311670Z",
     "start_time": "2021-06-22T03:24:48.298669Z"
    }
   },
   "outputs": [
    {
     "data": {
      "text/html": [
       "<style>.container { width:80% !important; }</style>"
      ],
      "text/plain": [
       "<IPython.core.display.HTML object>"
      ]
     },
     "metadata": {},
     "output_type": "display_data"
    }
   ],
   "source": [
    "# Adjusting the screen size\n",
    "from IPython.core.display import display, HTML\n",
    "display(HTML(\"<style>.container { width:80% !important; }</style>\"))"
   ]
  },
  {
   "cell_type": "markdown",
   "metadata": {},
   "source": [
    "### Borrar tablas con Account Service"
   ]
  },
  {
   "cell_type": "code",
   "execution_count": 3,
   "metadata": {
    "ExecuteTime": {
     "end_time": "2021-06-22T03:24:49.255273Z",
     "start_time": "2021-06-22T03:24:49.253271Z"
    }
   },
   "outputs": [],
   "source": [
    "#! pip freeze"
   ]
  },
  {
   "cell_type": "code",
   "execution_count": 5,
   "metadata": {
    "ExecuteTime": {
     "end_time": "2021-06-22T03:26:03.474688Z",
     "start_time": "2021-06-22T03:26:03.470689Z"
    }
   },
   "outputs": [],
   "source": [
    "from google.cloud import bigquery\n",
    "import json\n",
    "import os "
   ]
  },
  {
   "cell_type": "code",
   "execution_count": 20,
   "metadata": {
    "ExecuteTime": {
     "end_time": "2021-06-22T03:32:31.505159Z",
     "start_time": "2021-06-22T03:32:31.502148Z"
    }
   },
   "outputs": [],
   "source": [
    "project_id = 'bpy---pedidosya'\n",
    "dataset_id = 'DWH_Redshift'"
   ]
  },
  {
   "cell_type": "code",
   "execution_count": 21,
   "metadata": {
    "ExecuteTime": {
     "end_time": "2021-06-22T03:32:31.729536Z",
     "start_time": "2021-06-22T03:32:31.716533Z"
    }
   },
   "outputs": [
    {
     "data": {
      "text/plain": [
       "'G:\\\\My Drive\\\\PedidosYa\\\\Data-Quality\\\\credentials\\\\data-quality-sa-cross.json'"
      ]
     },
     "execution_count": 21,
     "metadata": {},
     "output_type": "execute_result"
    }
   ],
   "source": [
    "GCP_CREDENTIALS = os.environ[\"GOOGLE_APPLICATION_CREDENTIALS\"]\n",
    "GCP_CREDENTIALS\n",
    "\n",
    "BQ_CLIENT = bigquery.Client.from_service_account_json(GCP_CREDENTIALS, project=project_id)"
   ]
  },
  {
   "cell_type": "code",
   "execution_count": 22,
   "metadata": {
    "ExecuteTime": {
     "end_time": "2021-06-22T03:32:35.358487Z",
     "start_time": "2021-06-22T03:32:32.247282Z"
    }
   },
   "outputs": [
    {
     "name": "stdout",
     "output_type": "stream",
     "text": [
      "         table_name\n",
      "0   ge_tmp_5f3bc57e\n",
      "1   ge_tmp_a5d12712\n",
      "2   ge_tmp_4339c6e2\n",
      "3   ge_tmp_e33e2da8\n",
      "4   ge_tmp_9686de82\n",
      "5   ge_tmp_949bd745\n",
      "6   ge_tmp_668130ef\n",
      "7   ge_tmp_fe443311\n",
      "8   ge_tmp_dad6fef0\n",
      "9   ge_tmp_45416c2d\n",
      "10  ge_tmp_e6f566c2\n",
      "11  ge_tmp_b1d04a96\n",
      "12  ge_tmp_7997baa4\n",
      "13  ge_tmp_aa724582\n",
      "14  ge_tmp_962de040\n",
      "15  ge_tmp_1494cda4\n"
     ]
    }
   ],
   "source": [
    "query = '''select table_name from DWH_Redshift.INFORMATION_SCHEMA.TABLES where table_name like 'ge_tmp_%' '''\n",
    "table_names = BQ_CLIENT.query(query).result().to_dataframe()\n",
    "print(table_names)"
   ]
  },
  {
   "cell_type": "code",
   "execution_count": 23,
   "metadata": {
    "ExecuteTime": {
     "end_time": "2021-06-22T03:32:36.999581Z",
     "start_time": "2021-06-22T03:32:36.996587Z"
    }
   },
   "outputs": [],
   "source": [
    "tables = table_names.values.tolist()"
   ]
  },
  {
   "cell_type": "code",
   "execution_count": 26,
   "metadata": {
    "ExecuteTime": {
     "end_time": "2021-06-22T03:32:58.392758Z",
     "start_time": "2021-06-22T03:32:49.877163Z"
    }
   },
   "outputs": [
    {
     "name": "stdout",
     "output_type": "stream",
     "text": [
      "Deleted table 'bpy---pedidosya.DWH_Redshift.ge_tmp_5f3bc57e'.\n",
      "Deleted table 'bpy---pedidosya.DWH_Redshift.ge_tmp_a5d12712'.\n",
      "Deleted table 'bpy---pedidosya.DWH_Redshift.ge_tmp_4339c6e2'.\n",
      "Deleted table 'bpy---pedidosya.DWH_Redshift.ge_tmp_e33e2da8'.\n",
      "Deleted table 'bpy---pedidosya.DWH_Redshift.ge_tmp_9686de82'.\n",
      "Deleted table 'bpy---pedidosya.DWH_Redshift.ge_tmp_949bd745'.\n",
      "Deleted table 'bpy---pedidosya.DWH_Redshift.ge_tmp_668130ef'.\n",
      "Deleted table 'bpy---pedidosya.DWH_Redshift.ge_tmp_fe443311'.\n",
      "Deleted table 'bpy---pedidosya.DWH_Redshift.ge_tmp_dad6fef0'.\n",
      "Deleted table 'bpy---pedidosya.DWH_Redshift.ge_tmp_45416c2d'.\n",
      "Deleted table 'bpy---pedidosya.DWH_Redshift.ge_tmp_e6f566c2'.\n",
      "Deleted table 'bpy---pedidosya.DWH_Redshift.ge_tmp_b1d04a96'.\n",
      "Deleted table 'bpy---pedidosya.DWH_Redshift.ge_tmp_7997baa4'.\n",
      "Deleted table 'bpy---pedidosya.DWH_Redshift.ge_tmp_aa724582'.\n",
      "Deleted table 'bpy---pedidosya.DWH_Redshift.ge_tmp_962de040'.\n",
      "Deleted table 'bpy---pedidosya.DWH_Redshift.ge_tmp_1494cda4'.\n"
     ]
    }
   ],
   "source": [
    "for t in tables:\n",
    "    table_id = f'{project_id}.{dataset_id}.{t[0]}'\n",
    "    BQ_CLIENT.delete_table(table_id, not_found_ok=True)  # Make an API request.\n",
    "    print(\"Deleted table '{}'.\".format(table_id))"
   ]
  },
  {
   "cell_type": "code",
   "execution_count": 10,
   "metadata": {
    "ExecuteTime": {
     "end_time": "2021-06-22T03:28:11.944835Z",
     "start_time": "2021-06-22T03:28:10.501060Z"
    }
   },
   "outputs": [
    {
     "name": "stdout",
     "output_type": "stream",
     "text": [
      "Deleted table 'bpy---pedidosya.DWH_Redshift.ge_tmp_07bdf4e6'.\n"
     ]
    }
   ],
   "source": []
  },
  {
   "cell_type": "code",
   "execution_count": 1,
   "metadata": {},
   "outputs": [],
   "source": [
    "x= 'test'"
   ]
  },
  {
   "cell_type": "code",
   "execution_count": 8,
   "metadata": {},
   "outputs": [
    {
     "name": "stdout",
     "output_type": "stream",
     "text": [
      "no\n"
     ]
    }
   ],
   "source": [
    "if x == ('test-hola'):\n",
    "    print('si')\n",
    "else: \n",
    "    print('no')"
   ]
  },
  {
   "cell_type": "code",
   "execution_count": null,
   "metadata": {},
   "outputs": [],
   "source": []
  }
 ],
 "metadata": {
  "kernelspec": {
   "display_name": "Python 3",
   "language": "python",
   "name": "python3"
  },
  "language_info": {
   "codemirror_mode": {
    "name": "ipython",
    "version": 3
   },
   "file_extension": ".py",
   "mimetype": "text/x-python",
   "name": "python",
   "nbconvert_exporter": "python",
   "pygments_lexer": "ipython3",
   "version": "3.7.7"
  },
  "toc": {
   "base_numbering": 1,
   "nav_menu": {},
   "number_sections": true,
   "sideBar": true,
   "skip_h1_title": false,
   "title_cell": "Table of Contents",
   "title_sidebar": "Contents",
   "toc_cell": false,
   "toc_position": {},
   "toc_section_display": true,
   "toc_window_display": false
  },
  "varInspector": {
   "cols": {
    "lenName": 16,
    "lenType": 16,
    "lenVar": 40
   },
   "kernels_config": {
    "python": {
     "delete_cmd_postfix": "",
     "delete_cmd_prefix": "del ",
     "library": "var_list.py",
     "varRefreshCmd": "print(var_dic_list())"
    },
    "r": {
     "delete_cmd_postfix": ") ",
     "delete_cmd_prefix": "rm(",
     "library": "var_list.r",
     "varRefreshCmd": "cat(var_dic_list()) "
    }
   },
   "types_to_exclude": [
    "module",
    "function",
    "builtin_function_or_method",
    "instance",
    "_Feature"
   ],
   "window_display": false
  }
 },
 "nbformat": 4,
 "nbformat_minor": 4
}
