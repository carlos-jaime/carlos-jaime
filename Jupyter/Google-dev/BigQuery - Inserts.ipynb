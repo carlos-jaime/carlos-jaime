{
 "cells": [
  {
   "cell_type": "code",
   "execution_count": 1,
   "metadata": {},
   "outputs": [],
   "source": [
    "# Print every output from a specific cell\n",
    "from IPython.core.interactiveshell import InteractiveShell\n",
    "InteractiveShell.ast_node_interactivity = \"all\""
   ]
  },
  {
   "cell_type": "code",
   "execution_count": 2,
   "metadata": {},
   "outputs": [
    {
     "data": {
      "text/html": [
       "<style>.container { width:80% !important; }</style>"
      ],
      "text/plain": [
       "<IPython.core.display.HTML object>"
      ]
     },
     "metadata": {},
     "output_type": "display_data"
    }
   ],
   "source": [
    "# Adjusting the screen size\n",
    "from IPython.core.display import display, HTML\n",
    "display(HTML(\"<style>.container { width:80% !important; }</style>\"))"
   ]
  },
  {
   "cell_type": "code",
   "execution_count": null,
   "metadata": {},
   "outputs": [],
   "source": []
  },
  {
   "cell_type": "code",
   "execution_count": 3,
   "metadata": {},
   "outputs": [],
   "source": [
    "#! pip freeze\n",
    "#! pip install gspread oauth2client df2gspread"
   ]
  },
  {
   "cell_type": "code",
   "execution_count": 4,
   "metadata": {},
   "outputs": [],
   "source": [
    "#Importing the module\n",
    "import gspread\n",
    "from df2gspread import df2gspread as d2g\n",
    "from oauth2client.service_account import ServiceAccountCredentials"
   ]
  },
  {
   "cell_type": "code",
   "execution_count": 5,
   "metadata": {},
   "outputs": [],
   "source": [
    "from google.cloud import bigquery\n",
    "import json"
   ]
  },
  {
   "cell_type": "code",
   "execution_count": 6,
   "metadata": {},
   "outputs": [],
   "source": [
    "GCP_CREDENTIALS = os.environ[\"GOOGLE_APPLICATION_CREDENTIALS\"]\n",
    "GCP_CREDENTIALS\n",
    "\n",
    "BQ_CLIENT = bigquery.Client.from_service_account_json(GCP_CREDENTIALS)"
   ]
  },
  {
   "cell_type": "code",
   "execution_count": 29,
   "metadata": {},
   "outputs": [],
   "source": [
    "\n",
    "job_prefix = 'data_quality_framework'\n",
    "\n",
    "job_config = bigquery.job.QueryJobConfig(labels={\"task\":\"data_quality_framework\",\"dag\":\"dagname\"})"
   ]
  },
  {
   "cell_type": "code",
   "execution_count": 37,
   "metadata": {},
   "outputs": [],
   "source": [
    "run_name = 'DataQuality_Validation_Logistics_Orders_Data_Quality_Check_Pe.Cl.orders pe_20210504_175241'"
   ]
  },
  {
   "cell_type": "code",
   "execution_count": 41,
   "metadata": {},
   "outputs": [],
   "source": [
    "PROCESS_NAME = 'DATA_QUALITY_Checkpoint_Logistics'"
   ]
  },
  {
   "cell_type": "code",
   "execution_count": 45,
   "metadata": {},
   "outputs": [
    {
     "name": "stdout",
     "output_type": "stream",
     "text": [
      "job_labels -> {'task': 'great-expectation-validation', 'dag': 'data_quality_checkpoint_logistics'}\n",
      "run_name insert --> DataQuality_Validation_Logistics_Orders_Data_Quality_Check_Pe.Cl.orders pe_20210504_175241\n",
      "DELETE from `peya-data-qlty-pro.framework_metadata.curated_validations` where run_time >= timestamp_sub(current_timestamp() , INTERVAL 1 day)and run_name = 'DataQuality_Validation_Logistics_Orders_Data_Quality_Check_Pe.Cl.orders pe_20210504_175241'\n"
     ]
    },
    {
     "data": {
      "text/plain": [
       "True"
      ]
     },
     "execution_count": 45,
     "metadata": {},
     "output_type": "execute_result"
    }
   ],
   "source": [
    "# Prepare BigQuery Jobs config\n",
    "job_prefix = 'data_quality_framework'\n",
    "job_labels = {\"task\": \"great-expectation-validation\", \"dag\": PROCESS_NAME.lower()}\n",
    "job_config = bigquery.job.QueryJobConfig(labels=job_labels)\n",
    "\n",
    "print('job_labels -> {}'.format(job_labels))\n",
    "\n",
    "print('run_name insert --> {}'.format(run_name))\n",
    "# Insert in curated table\n",
    "query_delete = \"DELETE from `peya-data-qlty-pro.framework_metadata.curated_validations` \" \\\n",
    "               \"where run_time >= timestamp_sub(current_timestamp() , INTERVAL 1 day)\" \\\n",
    "               \"and run_name = '{name}'\".format(name=run_name)\n",
    "\n",
    "print(query_delete)\n",
    "\n",
    "delete_result = BQ_CLIENT.query(query=query_delete, job_config=job_config, job_id_prefix=job_prefix)\n",
    "delete_result.done()\n"
   ]
  },
  {
   "cell_type": "code",
   "execution_count": null,
   "metadata": {},
   "outputs": [],
   "source": []
  },
  {
   "cell_type": "code",
   "execution_count": null,
   "metadata": {},
   "outputs": [],
   "source": []
  },
  {
   "cell_type": "code",
   "execution_count": 38,
   "metadata": {},
   "outputs": [],
   "source": [
    "query_delete = \"DELETE from `peya-data-qlty-pro.framework_metadata.curated_validations` \" \\\n",
    "               \"where run_time >= timestamp_sub(current_timestamp() , INTERVAL 1 day)\" \\\n",
    "               \"and run_name = '{name}'\".format(name=run_name)\n",
    "\n",
    "query_insert = \"INSERT into `peya-data-qlty-pro.framework_metadata.curated_validations`\" \\\n",
    "               \"SELECT * \" \\\n",
    "               \"FROM `peya-data-qlty-pro.framework_metadata.vw_validations` \" \\\n",
    "               \"WHERE run_name = '{name}'\".format(name=run_name)"
   ]
  },
  {
   "cell_type": "code",
   "execution_count": 39,
   "metadata": {},
   "outputs": [
    {
     "data": {
      "text/plain": [
       "True"
      ]
     },
     "execution_count": 39,
     "metadata": {},
     "output_type": "execute_result"
    },
    {
     "name": "stdout",
     "output_type": "stream",
     "text": [
      "0\n"
     ]
    }
   ],
   "source": [
    "delete_result = BQ_CLIENT.query(query=query_delete, job_config=job_config, job_id_prefix=job_prefix)\n",
    "\n",
    "delete_result.done()\n",
    "\n",
    "print(delete_result.num_dml_affected_rows)\n",
    "\n"
   ]
  },
  {
   "cell_type": "code",
   "execution_count": 40,
   "metadata": {},
   "outputs": [
    {
     "data": {
      "text/plain": [
       "True"
      ]
     },
     "execution_count": 40,
     "metadata": {},
     "output_type": "execute_result"
    },
    {
     "name": "stdout",
     "output_type": "stream",
     "text": [
      "6\n"
     ]
    }
   ],
   "source": [
    "insert_result = BQ_CLIENT.query(query_insert, job_config=job_config, job_id_prefix=job_prefix)\n",
    "\n",
    "insert_result.done()\n",
    "\n",
    "print(insert_result.num_dml_affected_rows)"
   ]
  },
  {
   "cell_type": "code",
   "execution_count": null,
   "metadata": {},
   "outputs": [],
   "source": [
    "BQ_CLIENT.insert_rows()"
   ]
  }
 ],
 "metadata": {
  "kernelspec": {
   "display_name": "Python 3",
   "language": "python",
   "name": "python3"
  },
  "language_info": {
   "codemirror_mode": {
    "name": "ipython",
    "version": 3
   },
   "file_extension": ".py",
   "mimetype": "text/x-python",
   "name": "python",
   "nbconvert_exporter": "python",
   "pygments_lexer": "ipython3",
   "version": "3.7.7"
  }
 },
 "nbformat": 4,
 "nbformat_minor": 4
}
