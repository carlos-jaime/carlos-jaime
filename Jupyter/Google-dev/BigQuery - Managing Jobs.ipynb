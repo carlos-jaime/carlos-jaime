{
 "cells": [
  {
   "cell_type": "code",
   "execution_count": 1,
   "metadata": {
    "ExecuteTime": {
     "end_time": "2021-04-13T18:29:15.644615Z",
     "start_time": "2021-04-13T18:29:15.641589Z"
    }
   },
   "outputs": [],
   "source": [
    "# Print every output from a specific cell\n",
    "from IPython.core.interactiveshell import InteractiveShell\n",
    "InteractiveShell.ast_node_interactivity = \"all\""
   ]
  },
  {
   "cell_type": "code",
   "execution_count": 2,
   "metadata": {
    "ExecuteTime": {
     "end_time": "2021-04-13T18:29:15.879940Z",
     "start_time": "2021-04-13T18:29:15.869939Z"
    }
   },
   "outputs": [
    {
     "data": {
      "text/html": [
       "<style>.container { width:80% !important; }</style>"
      ],
      "text/plain": [
       "<IPython.core.display.HTML object>"
      ]
     },
     "metadata": {},
     "output_type": "display_data"
    }
   ],
   "source": [
    "# Adjusting the screen size\n",
    "from IPython.core.display import display, HTML\n",
    "display(HTML(\"<style>.container { width:80% !important; }</style>\"))"
   ]
  },
  {
   "cell_type": "markdown",
   "metadata": {},
   "source": [
    "### Manipulación de metadata de Jobs de BigQuery\n",
    " Requiere json file de credenciales"
   ]
  },
  {
   "cell_type": "markdown",
   "metadata": {},
   "source": [
    "- documentation : https://cloud.google.com/bigquery/docs/managing-jobs#python_2 \n",
    "- Python Client for Google BigQuery : https://googleapis.dev/python/bigquery/latest/reference.html#job"
   ]
  },
  {
   "cell_type": "code",
   "execution_count": 3,
   "metadata": {
    "ExecuteTime": {
     "end_time": "2021-04-13T18:29:16.639841Z",
     "start_time": "2021-04-13T18:29:16.637840Z"
    }
   },
   "outputs": [],
   "source": [
    "#! pip freeze\n",
    "#! pip install --upgrade google-cloud-bigquery"
   ]
  },
  {
   "cell_type": "code",
   "execution_count": 4,
   "metadata": {
    "ExecuteTime": {
     "end_time": "2021-04-13T19:29:17.701228Z",
     "start_time": "2021-04-13T19:29:17.698208Z"
    }
   },
   "outputs": [],
   "source": [
    "from google.cloud import bigquery\n",
    "import json\n",
    "from datetime import datetime, timezone\n",
    "import pytz\n",
    "\n",
    "import pandas as pd\n",
    "\n",
    "timezone = pytz.timezone(\"UTC\")"
   ]
  },
  {
   "cell_type": "code",
   "execution_count": 5,
   "metadata": {
    "ExecuteTime": {
     "end_time": "2021-04-13T18:33:35.753600Z",
     "start_time": "2021-04-13T18:33:35.738604Z"
    }
   },
   "outputs": [],
   "source": [
    "GCP_CREDENTIALS = os.environ[\"GOOGLE_APPLICATION_CREDENTIALS\"]\n",
    "GCP_CREDENTIALS\n",
    "BQ_CLIENT = bigquery.Client.from_service_account_json(GCP_CREDENTIALS)"
   ]
  },
  {
   "cell_type": "markdown",
   "metadata": {},
   "source": [
    "# Jobs todos los proyectos"
   ]
  },
  {
   "cell_type": "code",
   "execution_count": null,
   "metadata": {
    "ExecuteTime": {
     "end_time": "2021-04-13T18:29:20.471484Z",
     "start_time": "2021-04-13T18:29:20.468455Z"
    }
   },
   "outputs": [],
   "source": [
    "# Id de job, generado por BQ cuando ejecuta una query\n",
    "job_id = 'bquxjob_25d944f8_17961c48028'\n",
    "#job_proyect_id = 'peya-data-qlty-pro'"
   ]
  },
  {
   "cell_type": "code",
   "execution_count": 6,
   "metadata": {
    "ExecuteTime": {
     "end_time": "2021-04-13T19:00:24.059448Z",
     "start_time": "2021-04-13T19:00:24.056434Z"
    }
   },
   "outputs": [],
   "source": [
    "list_project = ['peya-bi-tools-pro', 'peya-cx-analytics','peya-delivery-and-support','peya-engineering','peya-food-and-groceries','peya-fraud-and-fintech','peya-growth-and-onboarding','peya-data-origins-pro']\n"
   ]
  },
  {
   "cell_type": "code",
   "execution_count": null,
   "metadata": {
    "ExecuteTime": {
     "end_time": "2021-04-13T19:30:02.406611Z",
     "start_time": "2021-04-13T19:30:01.925811Z"
    }
   },
   "outputs": [],
   "source": [
    "# datetime object containing current date and time\n",
    "now = datetime.now()\n",
    "#fmt = '%Y-%m-%d %H:%M:%S'\n",
    "#datetime.datetime.strptime(now, fmt)\n",
    "\n",
    "# Use all_users to include jobs run by all users in the project.\n",
    "print(\"Last jobs run by all users:\")\n",
    "for project in list_project:\n",
    "    BQ_CLIENT.project = project\n",
    "    for job in BQ_CLIENT.list_jobs(max_results=5, all_users=True, project=project):\n",
    "        \n",
    "        if job.state == 'DONE': \n",
    "            type(job.created)\n",
    "            now = datetime.now(timezone.utc)\n",
    "            print((now - job.created).minutes)\n",
    "\n",
    "            print('proyect -> {}'.format(project))\n",
    "            print(\"Job ID: {id}\\n run by user: {user} | State: {state} | {time}\\n Query: {query}\\n Current duration -> {duration}\\n\".format(id=job.job_id, user=job.user_email, \n",
    "                                                                                                            state=job.state, \n",
    "                                                                                                               time=job.created,\n",
    "                                                                                                                       query=None, duration=None))"
   ]
  },
  {
   "cell_type": "code",
   "execution_count": null,
   "metadata": {},
   "outputs": [],
   "source": [
    "# Jobs by user\n",
    "print(\"Last 10 jobs run by all users:\")\n",
    "for job in BQ_CLIENT.list_jobs(max_results=10000, all_users=True, project='peya-food-and-groceries'):\n",
    "    if job.user_email == 'federico.ramos@pedidosya.com':\n",
    "        print(\"\\n {id} run by user: {user} | State: {state} | Bytes processed: {bytes} | Labels: {lab}, {time}\\n query={query}\\n extra: {e}\".format(id=job.job_id, \n",
    "                                                                                                        user=job.user_email, \n",
    "                                                                                                        state=job.state, \n",
    "                                                                                                        bytes=job.estimated_bytes_processed, \n",
    "                                                                                                        lab=job.labels,\n",
    "                                                                                                           time=job.created,\n",
    "                                                                                                                   query=job.query,e=None))"
   ]
  },
  {
   "cell_type": "code",
   "execution_count": null,
   "metadata": {},
   "outputs": [],
   "source": [
    "def Average(lst):\n",
    "    if len(lst) > 0:\n",
    "        return sum(lst) / len(lst)\n",
    "    else:\n",
    "        return 0"
   ]
  },
  {
   "cell_type": "code",
   "execution_count": null,
   "metadata": {},
   "outputs": [],
   "source": [
    "# Jobs by user\n",
    "\n",
    "list_project = ['peya-bi-tools-pro', 'peya-cx-analytics','peya-delivery-and-support','peya-engineering','peya-food-and-groceries','peya-fraud-and-fintech','peya-growth-and-onboarding','peya-data-origins-pro']\n",
    "status = {}\n",
    "max_results = 1000\n",
    "\n",
    "for project_id in list_project:\n",
    "    running=[]\n",
    "    time_running = []\n",
    "    pending=[]\n",
    "    time_pending = []\n",
    "    current_time = datetime.now(tz=pytz.utc)\n",
    "    for job in BQ_CLIENT.list_jobs(max_results=max_results, all_users=True, project=project_id, state_filter='pending'):\n",
    "        difference = current_time - job.created\n",
    "        execution_time = difference.total_seconds()\n",
    "        pending.append(job.job_id)\n",
    "        time_pending.append(execution_time)\n",
    "    for job in BQ_CLIENT.list_jobs(max_results=max_results, all_users=True, project=project_id, state_filter='running'):\n",
    "        difference = current_time - job.created\n",
    "        execution_time = difference.total_seconds()\n",
    "        running.append(job.job_id)\n",
    "        time_running.append(execution_time)\n",
    "            \n",
    "    status[project_id] = {\"Running\":len(running), \"TimeRunning\": Average(time_running), \"Pending\":len(pending), \"TimePending\":Average(time_pending)}\n",
    "    \n",
    "pd.DataFrame.from_dict(status,orient='index')"
   ]
  },
  {
   "cell_type": "code",
   "execution_count": null,
   "metadata": {},
   "outputs": [],
   "source": [
    "pd.DataFrame.from_dict(status,orient='index')"
   ]
  },
  {
   "cell_type": "markdown",
   "metadata": {},
   "source": [
    "### Explorar un job especifico"
   ]
  },
  {
   "cell_type": "code",
   "execution_count": null,
   "metadata": {},
   "outputs": [],
   "source": []
  },
  {
   "cell_type": "code",
   "execution_count": null,
   "metadata": {},
   "outputs": [],
   "source": [
    "# https://googleapis.dev/python/bigquery/latest/generated/google.cloud.bigquery.job.QueryPlanEntry.html"
   ]
  },
  {
   "cell_type": "code",
   "execution_count": null,
   "metadata": {},
   "outputs": [],
   "source": [
    "job_id = 'bquxjob_25d944f8_17961c48028'\n",
    "job_proyect_id = 'peya-data-qlty-pro'"
   ]
  },
  {
   "cell_type": "code",
   "execution_count": null,
   "metadata": {
    "ExecuteTime": {
     "end_time": "2021-04-13T18:29:22.082982Z",
     "start_time": "2021-04-13T18:29:20.483453Z"
    }
   },
   "outputs": [],
   "source": [
    "job = BQ_CLIENT.get_job(job_id=job_id, project=job_proyect_id)"
   ]
  },
  {
   "cell_type": "code",
   "execution_count": null,
   "metadata": {},
   "outputs": [],
   "source": [
    "\n",
    "delta = job.ended - job.started\n",
    "avg_slots_usage = job.slot_millis / int(delta.total_seconds() * 1000) # milliseconds\n",
    "\n",
    "print(avg_slots_usage)"
   ]
  },
  {
   "cell_type": "code",
   "execution_count": null,
   "metadata": {},
   "outputs": [],
   "source": [
    "for QueryPlanEntry in job.query_plan:\n",
    "    print('Entry')\n",
    "    print(f\"\"\"{QueryPlanEntry.name}\n",
    "        Input Stages:{QueryPlanEntry.} \n",
    "        Steps:\"\"\"\n",
    "    )\n",
    "    for QueryPlanEntryStep  in QueryPlanEntry.steps:\n",
    "        print(f\"\"\"\n",
    "            {QueryPlanEntryStep.kind}\n",
    "                {QueryPlanEntryStep.substeps}\n",
    "        \"\"\")\n"
   ]
  },
  {
   "cell_type": "code",
   "execution_count": null,
   "metadata": {
    "ExecuteTime": {
     "end_time": "2021-04-13T18:29:22.177211Z",
     "start_time": "2021-04-13T18:29:22.173217Z"
    }
   },
   "outputs": [],
   "source": [
    "job.estimated_bytes_processed"
   ]
  },
  {
   "cell_type": "code",
   "execution_count": null,
   "metadata": {
    "ExecuteTime": {
     "end_time": "2021-04-13T18:29:22.392876Z",
     "start_time": "2021-04-13T18:29:22.388872Z"
    }
   },
   "outputs": [],
   "source": [
    "job.total_bytes_processed"
   ]
  },
  {
   "cell_type": "code",
   "execution_count": null,
   "metadata": {
    "ExecuteTime": {
     "end_time": "2021-04-13T18:29:22.565532Z",
     "start_time": "2021-04-13T18:29:22.559532Z"
    }
   },
   "outputs": [],
   "source": [
    "job.query"
   ]
  },
  {
   "cell_type": "code",
   "execution_count": null,
   "metadata": {},
   "outputs": [],
   "source": [
    "# Print selected job properties\n",
    "print(\"Details for job {}:\".format(job_id))\n",
    "print(\n",
    "    \"\\tType: {}\\n\\tState: {}\\n\\tCreated: {}\".format(\n",
    "        job.job_type, job.state, job.created\n",
    "    )\n",
    ")"
   ]
  },
  {
   "cell_type": "markdown",
   "metadata": {},
   "source": [
    "#### Enumera trabajos\n",
    "https://cloud.google.com/bigquery/docs/managing-jobs#listing_jobs"
   ]
  },
  {
   "cell_type": "code",
   "execution_count": null,
   "metadata": {
    "ExecuteTime": {
     "end_time": "2021-04-13T18:29:28.363144Z",
     "start_time": "2021-04-13T18:29:27.741377Z"
    }
   },
   "outputs": [],
   "source": [
    "# List the 10 most recent jobs in reverse chronological order.\n",
    "# Omit the max_results parameter to list jobs from the past 6 months.\n",
    "print(\"Last 10 jobs:\")\n",
    "for job in BQ_CLIENT.list_jobs(max_results=10,state_filter='running'):  # API request(s)\n",
    "    print(\"{} run by user: {} query: {}\".format(job.job_id, job.user_email, job.query))"
   ]
  },
  {
   "cell_type": "code",
   "execution_count": null,
   "metadata": {
    "ExecuteTime": {
     "end_time": "2021-04-13T18:29:30.632027Z",
     "start_time": "2021-04-13T18:29:30.041965Z"
    }
   },
   "outputs": [],
   "source": [
    "# The following are examples of additional optional parameters:\n",
    "\n",
    "# Use min_creation_time and/or max_creation_time to specify a time window.\n",
    "print(\"Jobs from the last ten minutes:\")\n",
    "ten_mins_ago = datetime.datetime.utcnow() - datetime.timedelta(minutes=30)\n",
    "for job in BQ_CLIENT.list_jobs(min_creation_time=ten_mins_ago):\n",
    "    print(\"{}\".format(job.job_id))"
   ]
  },
  {
   "cell_type": "code",
   "execution_count": 13,
   "metadata": {
    "ExecuteTime": {
     "end_time": "2021-04-13T18:31:52.673417Z",
     "start_time": "2021-04-13T18:31:51.270239Z"
    }
   },
   "outputs": [
    {
     "name": "stdout",
     "output_type": "stream",
     "text": [
      "Last 10 jobs run by all users:\n"
     ]
    }
   ],
   "source": [
    "# Use all_users to include jobs run by all users in the project.\n",
    "print(\"Last 10 jobs run by all users:\")\n",
    "for job in BQ_CLIENT.list_jobs(max_results=10000, all_users=True, project='peya-food-and-groceries', state_filter='running'):\n",
    "    if job.user_email == 'federico.ramos@pedidosya.com':\n",
    "    #if job.state == 'DONE':\n",
    "        print(\"\\n {id} run by user: {user} | State: {state} | Bytes processed: {bytes} | Labels: {lab}, {time}\\n query={query}\\n extra: {e}\".format(id=job.job_id, \n",
    "                                                                                                        user=job.user_email, \n",
    "                                                                                                        state=job.state, \n",
    "                                                                                                        bytes=job.estimated_bytes_processed, \n",
    "                                                                                                        lab=job.labels,\n",
    "                                                                                                           time=job.created,\n",
    "                                                                                                                   query=job.query,e=None))"
   ]
  },
  {
   "cell_type": "code",
   "execution_count": null,
   "metadata": {
    "ExecuteTime": {
     "end_time": "2021-03-26T20:23:56.111939Z",
     "start_time": "2021-03-26T20:23:55.319418Z"
    }
   },
   "outputs": [],
   "source": [
    "# Use state_filter to filter by job state.\n",
    "print(\"Last 10 jobs done:\")\n",
    "for job in BQ_CLIENT.list_jobs(max_results=30, state_filter=\"DONE\"):\n",
    "    print(\"{id} run by user: {user} | State: {state} | Bytes processed: {bytes} | Labels: {lab}\".format(id=job.job_id, \n",
    "                                                                                                        user=job.user_email, \n",
    "                                                                                                        state=job.state, \n",
    "                                                                                                        bytes=job.estimated_bytes_processed, \n",
    "                                                                                                        lab=job.labels))"
   ]
  },
  {
   "cell_type": "code",
   "execution_count": null,
   "metadata": {},
   "outputs": [],
   "source": [
    "# Cancel a job\n",
    "job = BQ_CLIENT.cancel_job(job_id)"
   ]
  },
  {
   "cell_type": "code",
   "execution_count": null,
   "metadata": {},
   "outputs": [],
   "source": []
  },
  {
   "cell_type": "code",
   "execution_count": null,
   "metadata": {},
   "outputs": [],
   "source": []
  },
  {
   "cell_type": "code",
   "execution_count": null,
   "metadata": {
    "ExecuteTime": {
     "end_time": "2021-04-13T18:33:08.998982Z",
     "start_time": "2021-04-13T18:33:08.106589Z"
    }
   },
   "outputs": [],
   "source": []
  },
  {
   "cell_type": "code",
   "execution_count": null,
   "metadata": {},
   "outputs": [],
   "source": []
  }
 ],
 "metadata": {
  "kernelspec": {
   "display_name": "Python 3",
   "language": "python",
   "name": "python3"
  },
  "language_info": {
   "codemirror_mode": {
    "name": "ipython",
    "version": 3
   },
   "file_extension": ".py",
   "mimetype": "text/x-python",
   "name": "python",
   "nbconvert_exporter": "python",
   "pygments_lexer": "ipython3",
   "version": "3.7.7"
  },
  "toc": {
   "base_numbering": 1,
   "nav_menu": {},
   "number_sections": true,
   "sideBar": true,
   "skip_h1_title": false,
   "title_cell": "Table of Contents",
   "title_sidebar": "Contents",
   "toc_cell": false,
   "toc_position": {},
   "toc_section_display": true,
   "toc_window_display": false
  },
  "varInspector": {
   "cols": {
    "lenName": 16,
    "lenType": 16,
    "lenVar": 40
   },
   "kernels_config": {
    "python": {
     "delete_cmd_postfix": "",
     "delete_cmd_prefix": "del ",
     "library": "var_list.py",
     "varRefreshCmd": "print(var_dic_list())"
    },
    "r": {
     "delete_cmd_postfix": ") ",
     "delete_cmd_prefix": "rm(",
     "library": "var_list.r",
     "varRefreshCmd": "cat(var_dic_list()) "
    }
   },
   "types_to_exclude": [
    "module",
    "function",
    "builtin_function_or_method",
    "instance",
    "_Feature"
   ],
   "window_display": false
  }
 },
 "nbformat": 4,
 "nbformat_minor": 4
}
