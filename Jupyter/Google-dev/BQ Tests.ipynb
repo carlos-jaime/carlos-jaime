{
 "cells": [
  {
   "cell_type": "code",
   "execution_count": 1,
   "metadata": {},
   "outputs": [],
   "source": [
    "from google.cloud import bigquery"
   ]
  },
  {
   "cell_type": "code",
   "execution_count": 2,
   "metadata": {},
   "outputs": [],
   "source": [
    "import pandas"
   ]
  },
  {
   "cell_type": "code",
   "execution_count": 16,
   "metadata": {},
   "outputs": [],
   "source": [
    "GCP_CREDENTIALS = os.environ[\"GOOGLE_APPLICATION_CREDENTIALS\"]\n",
    "GCP_CREDENTIALS"
   ]
  },
  {
   "cell_type": "code",
   "execution_count": 17,
   "metadata": {},
   "outputs": [],
   "source": [
    "# API BigQuery\n",
    "bq_client = bigquery.Client.from_service_account_json(json_credentials_path=GCP_CREDENTIALS)"
   ]
  },
  {
   "cell_type": "code",
   "execution_count": 44,
   "metadata": {},
   "outputs": [],
   "source": [
    "QUERY = \"\"\"\n",
    "\n",
    "INSERT INTO `peya-data-qlty-pro.gcp_cost_control.usage_metrics_per_project_daily_agg` \n",
    "                (execution_date, \n",
    "                project_id, \n",
    "                account_type,\n",
    "                total_queries,\n",
    "                total_processed_tb, \n",
    "                total_costs_usd, \n",
    "                total_duration_in_seconds, \n",
    "                avg_duration_in_seconds,\n",
    "                total_slot_usage,\n",
    "                avg_slot_usage,\n",
    "                total_users,\n",
    "                _audi_load_date)\n",
    "            SELECT  \n",
    "                execution_date ,\n",
    "                project_id, \n",
    "                account_type,\n",
    "                sum( total_queries ) as total_queries,\n",
    "                sum(total_processed_tb) as total_processed_tb, \n",
    "                sum(total_costs_usd) as total_costs_usd,\n",
    "                sum( total_duration_in_seconds) as total_duration_in_seconds,\n",
    "                avg(total_duration_in_seconds) as avg_duration_in_seconds,\n",
    "                sum( slot_usage ) as total_slot_usage,\n",
    "                avg( slot_usage ) as avg_slot_usage,\n",
    "                count(distinct user_email) as total_users,\n",
    "                CURRENT_TIMESTAMP() as _audi_load_date\n",
    "            FROM \n",
    "                `peya-data-qlty-pro.gcp_cost_control.usage_metrics_per_user_daily_agg` \n",
    "            WHERE \n",
    "                execution_date >= \"2020-12-01\"\n",
    "                AND project_id = \"peya-data-qlty-pro\"\n",
    "            GROUP BY \n",
    "                execution_date, \n",
    "                project_id,\n",
    "                account_type\n",
    "            ORDER BY \n",
    "                execution_date, \n",
    "                Project_id, \n",
    "                account_type\n",
    "\n",
    "\n",
    "\"\"\""
   ]
  },
  {
   "cell_type": "code",
   "execution_count": 45,
   "metadata": {},
   "outputs": [],
   "source": [
    "query_job = bq_client.query(QUERY)  # API request\n",
    "rows = query_job.result()  # Waits for query to finish"
   ]
  },
  {
   "cell_type": "code",
   "execution_count": null,
   "metadata": {},
   "outputs": [],
   "source": [
    "rows.to_dataframe()"
   ]
  },
  {
   "cell_type": "code",
   "execution_count": null,
   "metadata": {},
   "outputs": [],
   "source": []
  }
 ],
 "metadata": {
  "kernelspec": {
   "display_name": "Python 3",
   "language": "python",
   "name": "python3"
  },
  "language_info": {
   "codemirror_mode": {
    "name": "ipython",
    "version": 3
   },
   "file_extension": ".py",
   "mimetype": "text/x-python",
   "name": "python",
   "nbconvert_exporter": "python",
   "pygments_lexer": "ipython3",
   "version": "3.7.7"
  }
 },
 "nbformat": 4,
 "nbformat_minor": 4
}
