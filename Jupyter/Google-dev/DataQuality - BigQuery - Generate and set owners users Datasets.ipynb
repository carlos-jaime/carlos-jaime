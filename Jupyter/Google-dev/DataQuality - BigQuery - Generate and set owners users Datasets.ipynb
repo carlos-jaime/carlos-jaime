{
 "cells": [
  {
   "cell_type": "code",
   "execution_count": 1,
   "metadata": {},
   "outputs": [],
   "source": [
    "# Print every output from a specific cell\n",
    "from IPython.core.interactiveshell import InteractiveShell\n",
    "InteractiveShell.ast_node_interactivity = \"all\""
   ]
  },
  {
   "cell_type": "code",
   "execution_count": 2,
   "metadata": {},
   "outputs": [
    {
     "data": {
      "text/html": [
       "<style>.container { width:80% !important; }</style>"
      ],
      "text/plain": [
       "<IPython.core.display.HTML object>"
      ]
     },
     "metadata": {},
     "output_type": "display_data"
    }
   ],
   "source": [
    "# Adjusting the screen size\n",
    "from IPython.core.display import display, HTML\n",
    "display(HTML(\"<style>.container { width:80% !important; }</style>\"))"
   ]
  },
  {
   "cell_type": "code",
   "execution_count": null,
   "metadata": {},
   "outputs": [],
   "source": []
  },
  {
   "cell_type": "code",
   "execution_count": 3,
   "metadata": {},
   "outputs": [],
   "source": [
    "#! pip freeze\n",
    "#! pip install gspread oauth2client df2gspread"
   ]
  },
  {
   "cell_type": "code",
   "execution_count": 4,
   "metadata": {},
   "outputs": [],
   "source": [
    "#Importing the module\n",
    "import gspread\n",
    "from df2gspread import df2gspread as d2g\n",
    "from oauth2client.service_account import ServiceAccountCredentials"
   ]
  },
  {
   "cell_type": "code",
   "execution_count": 5,
   "metadata": {},
   "outputs": [],
   "source": [
    "from google.cloud import bigquery\n",
    "import json"
   ]
  },
  {
   "cell_type": "code",
   "execution_count": 6,
   "metadata": {},
   "outputs": [],
   "source": [
    "GCP_CREDENTIALS = os.environ[\"GOOGLE_APPLICATION_CREDENTIALS\"]\n",
    "GCP_CREDENTIALS"
   ]
  },
  {
   "cell_type": "code",
   "execution_count": 7,
   "metadata": {},
   "outputs": [],
   "source": [
    "#The scope is always look like this so we did not need to change anything\n",
    "scope = [\n",
    "   'https://spreadsheets.google.com/feeds',\n",
    "         'https://www.googleapis.com/auth/drive']\n",
    "credentials = ServiceAccountCredentials.from_json_keyfile_name(GCP_CREDENTIALS, scope)\n",
    "gc = gspread.authorize(credentials)"
   ]
  },
  {
   "cell_type": "code",
   "execution_count": 23,
   "metadata": {},
   "outputs": [],
   "source": [
    "# Cliente BQ\n",
    "BQ_CLIENT = bigquery.Client.from_service_account_json(GCP_CREDENTIALS)"
   ]
  },
  {
   "cell_type": "markdown",
   "metadata": {},
   "source": [
    "*****"
   ]
  },
  {
   "cell_type": "markdown",
   "metadata": {},
   "source": [
    "## GSheets"
   ]
  },
  {
   "cell_type": "code",
   "execution_count": 8,
   "metadata": {},
   "outputs": [],
   "source": [
    "spreadsheet_key = '1M7HrZAb1RlMeqKQ0PfiHeCfiqAztMJzLd1ibIIHsing'\n",
    "worksheet = 'GenerateDatasetsProcess'"
   ]
  },
  {
   "cell_type": "code",
   "execution_count": 11,
   "metadata": {},
   "outputs": [],
   "source": [
    "#Opening the worksheet by using Worksheet ID\n",
    "workbook = gc.open_by_key(spreadsheet_key)\n",
    "#Selecting which sheet to pulling the data\n",
    "sheet = workbook.worksheet(worksheet)\n",
    "#Pulling the data and transform it to the data frame\n",
    "gsheet_data = sheet.get_all_values()"
   ]
  },
  {
   "cell_type": "code",
   "execution_count": 12,
   "metadata": {},
   "outputs": [
    {
     "data": {
      "text/plain": [
       "['nicolas.olivera@pedidosya.com',\n",
       " 'peya-argentina',\n",
       " '',\n",
       " 'nicolas',\n",
       " 'olivera',\n",
       " 'nicolas.olivera@pedidosya.com',\n",
       " 'user_nicolas_olivera',\n",
       " 'peya-argentina']"
      ]
     },
     "execution_count": 12,
     "metadata": {},
     "output_type": "execute_result"
    }
   ],
   "source": [
    "gsheet_data[1]"
   ]
  },
  {
   "cell_type": "markdown",
   "metadata": {},
   "source": [
    "## Manual "
   ]
  },
  {
   "cell_type": "code",
   "execution_count": 40,
   "metadata": {},
   "outputs": [],
   "source": [
    "## Generación manual de datasets\n",
    "# [email,dataset,project]\n",
    "manual_data = [\n",
    "    [\"alvaro.calero@pedidosya.com\",\"user_alvaro_calero\",\"peya-argentina\"],\n",
    "    [\"alessio.aveggio@pedidosya.com\",\"user_alessio_aveggio\",\"peya-delivery-and-support\"]\n",
    "]"
   ]
  },
  {
   "cell_type": "code",
   "execution_count": 41,
   "metadata": {},
   "outputs": [
    {
     "data": {
      "text/plain": [
       "[['alvaro.calero@pedidosya.com', 'user_alvaro_calero', 'peya-argentina'],\n",
       " ['alessio.aveggio@pedidosya.com',\n",
       "  'user_alessio_aveggio',\n",
       "  'peya-delivery-and-support']]"
      ]
     },
     "execution_count": 41,
     "metadata": {},
     "output_type": "execute_result"
    }
   ],
   "source": [
    "manual_data"
   ]
  },
  {
   "cell_type": "code",
   "execution_count": null,
   "metadata": {},
   "outputs": [],
   "source": []
  },
  {
   "cell_type": "markdown",
   "metadata": {},
   "source": [
    "## Set datasource"
   ]
  },
  {
   "cell_type": "code",
   "execution_count": 42,
   "metadata": {},
   "outputs": [],
   "source": [
    "pos_email = -3\n",
    "pos_dataset = -2\n",
    "pos_project = -1"
   ]
  },
  {
   "cell_type": "code",
   "execution_count": 43,
   "metadata": {},
   "outputs": [],
   "source": [
    "# values = gsheet_data\n",
    "values = manual_data"
   ]
  },
  {
   "cell_type": "code",
   "execution_count": 44,
   "metadata": {},
   "outputs": [
    {
     "name": "stdout",
     "output_type": "stream",
     "text": [
      "user email: alvaro.calero@pedidosya.com \n",
      "user project: peya-argentina \n",
      "user dataset: user_alvaro_calero\n",
      "****\n"
     ]
    }
   ],
   "source": [
    "# test data\n",
    "for user in values[0:1]:\n",
    "    print(\"user email: {e} \\nuser project: {d} \\nuser dataset: {s}\\n****\".format(e=user[pos_email], d=user[pos_project], s=user[pos_dataset]))\n",
    "    "
   ]
  },
  {
   "cell_type": "markdown",
   "metadata": {},
   "source": [
    "*********"
   ]
  },
  {
   "cell_type": "code",
   "execution_count": 45,
   "metadata": {},
   "outputs": [],
   "source": [
    "cleaned_rows = []\n",
    "excluded_users = []\n",
    "for row in values:\n",
    "    if len(row[pos_email]) > 5 and len(row[pos_project]) > 5:\n",
    "        cleaned_rows.append([row[pos_email],row[pos_dataset],row[pos_project]])\n",
    "    else:\n",
    "        if len(row[pos_email]) > 1:\n",
    "            excluded_users.append(row[pos_email])"
   ]
  },
  {
   "cell_type": "code",
   "execution_count": 46,
   "metadata": {},
   "outputs": [
    {
     "data": {
      "text/plain": [
       "[]"
      ]
     },
     "execution_count": 46,
     "metadata": {},
     "output_type": "execute_result"
    }
   ],
   "source": [
    "excluded_users"
   ]
  },
  {
   "cell_type": "code",
   "execution_count": 47,
   "metadata": {},
   "outputs": [
    {
     "data": {
      "text/plain": [
       "[['alvaro.calero@pedidosya.com', 'user_alvaro_calero', 'peya-argentina'],\n",
       " ['alessio.aveggio@pedidosya.com',\n",
       "  'user_alessio_aveggio',\n",
       "  'peya-delivery-and-support']]"
      ]
     },
     "execution_count": 47,
     "metadata": {},
     "output_type": "execute_result"
    }
   ],
   "source": [
    "cleaned_rows[0:]"
   ]
  },
  {
   "cell_type": "code",
   "execution_count": null,
   "metadata": {},
   "outputs": [],
   "source": []
  },
  {
   "cell_type": "code",
   "execution_count": 48,
   "metadata": {},
   "outputs": [
    {
     "name": "stdout",
     "output_type": "stream",
     "text": [
      "Created dataset peya-argentina.user_alvaro_calero\n",
      "Updated dataset 'peya-argentina.user_alvaro_calero' with modified user permissions. Added OWNER rol to alvaro.calero@pedidosya.com\n",
      "Created dataset peya-delivery-and-support.user_alessio_aveggio\n",
      "Updated dataset 'peya-delivery-and-support.user_alessio_aveggio' with modified user permissions. Added OWNER rol to alessio.aveggio@pedidosya.com\n"
     ]
    }
   ],
   "source": [
    "has_dataset = []\n",
    "has_not_dataset = []\n",
    "\n",
    "error_users = []\n",
    "\n",
    "for user in cleaned_rows[0:]:\n",
    "    # Users values\n",
    "    user_email = user[0].strip()\n",
    "    user_dataset = user[1].strip('_').strip().lower()\n",
    "    user_project = user[2].strip('+').strip()\n",
    "  \n",
    "    #print(user_email)\n",
    "    # User BQ client, per each poject\n",
    "    user_bq_client = bigquery.Client.from_service_account_json(GCP_CREDENTIALS, project=user_project)\n",
    "\n",
    "    dataset_id = \"{project}.{dataset}\".format(project=user_bq_client.project, dataset=user_dataset)\n",
    "\n",
    "    try:\n",
    "        # check if dataset exists\n",
    "        dataset = user_bq_client.get_dataset(dataset_id)  # Make an API request.\n",
    "\n",
    "        #print('{} exists'.format(dataset_id))\n",
    "\n",
    "        has_dataset.append(user)\n",
    "\n",
    "    except:\n",
    "\n",
    "        #print('Creating {}'.format(dataset_id))\n",
    "\n",
    "        has_not_dataset.append(user_email)\n",
    "       \n",
    "        # Construct a full Dataset object to send to the API.\n",
    "        dataset = bigquery.Dataset(dataset_id)\n",
    "\n",
    "        # Send the dataset to the API for creation, with an explicit timeout.\n",
    "        dataset = user_bq_client.create_dataset(dataset, timeout=30)  # Make an API request.\n",
    "        print(\"Created dataset {}.{}\".format(user_bq_client.project, dataset.dataset_id))\n",
    "\n",
    "    # ****************************************************************************************************\n",
    "    # Update Access, data owner to user\n",
    "\n",
    "    entry = bigquery.AccessEntry(\n",
    "        role=\"OWNER\",\n",
    "        entity_type=\"userByEmail\",\n",
    "        entity_id=user_email,\n",
    "    )\n",
    "    # append new rol to dataset access list\n",
    "    entries = list(dataset.access_entries)\n",
    "\n",
    "    entries.append(entry)\n",
    "    dataset.access_entries = entries\n",
    "    \n",
    "    try:\n",
    "        # Update Access Entry of dataset\n",
    "        dataset = user_bq_client.update_dataset(dataset, [\"access_entries\"])  # Make an API request.\n",
    "        \n",
    "       # Update dataset labels\n",
    "        dataset.labels = {\"owner\": \"user\"}\n",
    "        dataset = user_bq_client.update_dataset(dataset, [\"labels\"])  # Make an API request.\n",
    "\n",
    "        # update description\n",
    "        current_description = dataset.description\n",
    "        new_description = \"Dataset of user {user}, Generated by Data Quality Team\".format(user=user_email)\n",
    "\n",
    "        if current_description is None:\n",
    "            dataset.description = new_description\n",
    "            dataset = user_bq_client.update_dataset(dataset, [\"description\"])  # Make an API request.\n",
    "        elif new_description not in (current_description):\n",
    "            dataset.description = current_description + \"\\n\" + new_description\n",
    "            dataset = user_bq_client.update_dataset(dataset, [\"description\"])  # Make an API request.\n",
    "\n",
    "        full_dataset_id = \"{}.{}\".format(dataset.project, dataset.dataset_id)\n",
    "        print(\n",
    "            \"Updated dataset '{dataset}' with modified user permissions. Added OWNER rol to {user}\".format(dataset=full_dataset_id, user=user_email)\n",
    "        )\n",
    "\n",
    "    except:\n",
    "        print(\"**** User error IAM {}\".format(user_email))\n",
    "        error_users.append(user_email)"
   ]
  },
  {
   "cell_type": "code",
   "execution_count": null,
   "metadata": {},
   "outputs": [],
   "source": [
    "len(has_dataset)"
   ]
  },
  {
   "cell_type": "code",
   "execution_count": null,
   "metadata": {},
   "outputs": [],
   "source": [
    "len(has_not_dataset)"
   ]
  },
  {
   "cell_type": "code",
   "execution_count": null,
   "metadata": {},
   "outputs": [],
   "source": [
    "error_users"
   ]
  },
  {
   "cell_type": "code",
   "execution_count": null,
   "metadata": {},
   "outputs": [],
   "source": []
  }
 ],
 "metadata": {
  "kernelspec": {
   "display_name": "Python 3",
   "language": "python",
   "name": "python3"
  },
  "language_info": {
   "codemirror_mode": {
    "name": "ipython",
    "version": 3
   },
   "file_extension": ".py",
   "mimetype": "text/x-python",
   "name": "python",
   "nbconvert_exporter": "python",
   "pygments_lexer": "ipython3",
   "version": "3.7.7"
  }
 },
 "nbformat": 4,
 "nbformat_minor": 4
}
