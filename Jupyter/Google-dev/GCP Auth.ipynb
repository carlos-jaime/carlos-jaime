{
 "cells": [
  {
   "cell_type": "code",
   "execution_count": 15,
   "metadata": {},
   "outputs": [],
   "source": [
    "from google_auth_oauthlib import flow\n",
    "from google.cloud import storage\n",
    "from google.cloud import bigquery\n",
    "\n",
    "import google.oauth2.service_account\n",
    "\n",
    "# TODO: Uncomment the line below to set the `launch_browser` variable.\n",
    "# launch_browser = True\n",
    "#\n",
    "# The `launch_browser` boolean variable indicates if a local server is used\n",
    "# as the callback URL in the auth flow. A value of `True` is recommended,\n",
    "# but a local server does not work if accessing the application remotely,\n",
    "# such as over SSH or from a remote Jupyter notebook."
   ]
  },
  {
   "cell_type": "code",
   "execution_count": 10,
   "metadata": {},
   "outputs": [],
   "source": [
    "GCP_CREDENTIALS = os.environ[\"GOOGLE_APPLICATION_CREDENTIALS\"]\n",
    "GCP_CREDENTIALS"
   ]
  },
  {
   "cell_type": "code",
   "execution_count": null,
   "metadata": {},
   "outputs": [],
   "source": [
    "bigquery.Client.json_credentials_path(json_credentials_path="
   ]
  },
  {
   "cell_type": "code",
   "execution_count": 11,
   "metadata": {},
   "outputs": [],
   "source": [
    "credentials = (\n",
    "    google.oauth2.service_account.Credentials.from_service_account_file(key_path)\n",
    ")"
   ]
  },
  {
   "cell_type": "code",
   "execution_count": 12,
   "metadata": {},
   "outputs": [],
   "source": [
    "# Instantiates a client\n",
    "storage_client = storage.Client(credentials=credentials)"
   ]
  },
  {
   "cell_type": "code",
   "execution_count": 13,
   "metadata": {},
   "outputs": [
    {
     "data": {
      "text/plain": [
       "'peya-data-qlty-stg'"
      ]
     },
     "execution_count": 13,
     "metadata": {},
     "output_type": "execute_result"
    }
   ],
   "source": [
    "storage_client."
   ]
  },
  {
   "cell_type": "code",
   "execution_count": null,
   "metadata": {},
   "outputs": [],
   "source": []
  }
 ],
 "metadata": {
  "kernelspec": {
   "display_name": "Python 3",
   "language": "python",
   "name": "python3"
  },
  "language_info": {
   "codemirror_mode": {
    "name": "ipython",
    "version": 3
   },
   "file_extension": ".py",
   "mimetype": "text/x-python",
   "name": "python",
   "nbconvert_exporter": "python",
   "pygments_lexer": "ipython3",
   "version": "3.7.7"
  }
 },
 "nbformat": 4,
 "nbformat_minor": 4
}
