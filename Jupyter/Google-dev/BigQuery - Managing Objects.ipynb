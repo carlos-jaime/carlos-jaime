{
 "cells": [
  {
   "cell_type": "code",
   "execution_count": 2,
   "metadata": {},
   "outputs": [],
   "source": [
    "# Print every output from a specific cell\n",
    "from IPython.core.interactiveshell import InteractiveShell\n",
    "InteractiveShell.ast_node_interactivity = \"all\""
   ]
  },
  {
   "cell_type": "code",
   "execution_count": 3,
   "metadata": {},
   "outputs": [
    {
     "data": {
      "text/html": [
       "<style>.container { width:80% !important; }</style>"
      ],
      "text/plain": [
       "<IPython.core.display.HTML object>"
      ]
     },
     "metadata": {},
     "output_type": "display_data"
    }
   ],
   "source": [
    "# Adjusting the screen size\n",
    "from IPython.core.display import display, HTML\n",
    "display(HTML(\"<style>.container { width:80% !important; }</style>\"))"
   ]
  },
  {
   "cell_type": "code",
   "execution_count": null,
   "metadata": {},
   "outputs": [],
   "source": []
  },
  {
   "cell_type": "code",
   "execution_count": null,
   "metadata": {},
   "outputs": [],
   "source": [
    "#! pip freeze"
   ]
  },
  {
   "cell_type": "code",
   "execution_count": 45,
   "metadata": {},
   "outputs": [],
   "source": [
    "from google.cloud import bigquery, storage\n",
    "import json\n",
    "import os\n",
    "import pytz\n",
    "\n",
    "from datetime import datetime, timedelta"
   ]
  },
  {
   "cell_type": "code",
   "execution_count": 4,
   "metadata": {},
   "outputs": [],
   "source": [
    "GCP_CREDENTIALS = os.environ[\"GOOGLE_APPLICATION_CREDENTIALS\"]\n",
    "\n",
    "BQ_CLIENT = bigquery.Client.from_service_account_json(GCP_CREDENTIALS)"
   ]
  },
  {
   "cell_type": "code",
   "execution_count": 56,
   "metadata": {},
   "outputs": [
    {
     "ename": "NameError",
     "evalue": "name 'client' is not defined",
     "output_type": "error",
     "traceback": [
      "\u001b[1;31m---------------------------------------------------------------------------\u001b[0m",
      "\u001b[1;31mNameError\u001b[0m                                 Traceback (most recent call last)",
      "\u001b[1;32m<ipython-input-56-6f22855bb03f>\u001b[0m in \u001b[0;36m<module>\u001b[1;34m\u001b[0m\n\u001b[1;32m----> 1\u001b[1;33m \u001b[0mclient\u001b[0m\u001b[1;33m.\u001b[0m\u001b[0mdelete_table\u001b[0m\u001b[1;33m(\u001b[0m\u001b[0mmetadata_view_id\u001b[0m\u001b[1;33m,\u001b[0m \u001b[0mnot_found_ok\u001b[0m\u001b[1;33m=\u001b[0m\u001b[1;32mTrue\u001b[0m\u001b[1;33m)\u001b[0m\u001b[1;33m\u001b[0m\u001b[1;33m\u001b[0m\u001b[0m\n\u001b[0m",
      "\u001b[1;31mNameError\u001b[0m: name 'client' is not defined"
     ]
    }
   ],
   "source": [
    "client.delete_table(metadata_view_id, not_found_ok=True) "
   ]
  },
  {
   "cell_type": "code",
   "execution_count": 59,
   "metadata": {},
   "outputs": [
    {
     "data": {
      "text/plain": [
       "Table(TableReference(DatasetReference('peya-data-qlty-pro', 'framework_metadata'), 'my_view'))"
      ]
     },
     "execution_count": 59,
     "metadata": {},
     "output_type": "execute_result"
    },
    {
     "name": "stdout",
     "output_type": "stream",
     "text": [
      "created\n"
     ]
    }
   ],
   "source": [
    "metadata_view_id = \"peya-data-qlty-pro.framework_metadata.my_view\"\n",
    "source_id = \"peya-data-qlty-pro.framework_metadata.raw_validations\"\n",
    "#view = bigquery.Table(view_id)\n",
    "\n",
    "BQ_CLIENT.delete_table(metadata_view_id, not_found_ok=True)\n",
    "    \n",
    "metadata_view = bigquery.Table(metadata_view_id)\n",
    "\n",
    "metadata_view.view_query = f\"SELECT run_name FROM `{source_id}` LIMIT 10\"\n",
    "\n",
    "metadata_view.expires = datetime.now(pytz.utc) + timedelta(hours=1)\n",
    "\n",
    "BQ_CLIENT.create_table(metadata_view)\n",
    "\n",
    "print('created')"
   ]
  },
  {
   "cell_type": "code",
   "execution_count": null,
   "metadata": {},
   "outputs": [],
   "source": []
  },
  {
   "cell_type": "code",
   "execution_count": null,
   "metadata": {},
   "outputs": [],
   "source": [
    "GCP_CREDENTIALS = 'G:/My Drive/PedidosYa/Data-Quality/credentials/data-quality-sa-cross-prod.json'"
   ]
  },
  {
   "cell_type": "code",
   "execution_count": null,
   "metadata": {},
   "outputs": [],
   "source": [
    "GCS_CLIENT = storage.Client.from_service_account_json(GCP_CREDENTIALS)"
   ]
  },
  {
   "cell_type": "code",
   "execution_count": null,
   "metadata": {},
   "outputs": [],
   "source": [
    "buckets = GCS_CLIENT.list_buckets(project='peya-data-qlty-stg')"
   ]
  },
  {
   "cell_type": "code",
   "execution_count": null,
   "metadata": {},
   "outputs": [],
   "source": [
    "bucket_name = 'peya-great-expectations-project-pro'\n",
    "blobs = GCS_CLIENT.list_blobs(bucket_name)\n",
    "\n",
    "for blob in blobs:\n",
    "    print(blob.name)"
   ]
  },
  {
   "cell_type": "code",
   "execution_count": null,
   "metadata": {},
   "outputs": [],
   "source": [
    "# Table Id\n",
    "config_table =  {\"project_id\":\"peya-data-qlty-pro\",\n",
    "                 \"dataset_id\":\"gcp_cost_control\",\n",
    "                 \"table_id\":\"usage_jobs_slots_assigments_per_hour\"\n",
    "        }\n",
    "\n",
    "table_id = '{project}.{dataset}.{table}'.format(project=config_table['project_id'],\n",
    "                                               dataset=config_table['dataset_id'],\n",
    "                                               table=config_table['table_id'])"
   ]
  },
  {
   "cell_type": "code",
   "execution_count": null,
   "metadata": {},
   "outputs": [],
   "source": []
  },
  {
   "cell_type": "code",
   "execution_count": 12,
   "metadata": {
    "ExecuteTime": {
     "end_time": "2021-04-08T06:01:20.548529Z",
     "start_time": "2021-04-08T06:01:20.543529Z"
    }
   },
   "outputs": [
    {
     "data": {
      "text/plain": [
       "1"
      ]
     },
     "execution_count": 12,
     "metadata": {},
     "output_type": "execute_result"
    }
   ],
   "source": []
  },
  {
   "cell_type": "code",
   "execution_count": null,
   "metadata": {
    "ExecuteTime": {
     "end_time": "2021-04-08T06:01:05.684378Z",
     "start_time": "2021-04-08T06:01:05.679378Z"
    }
   },
   "outputs": [],
   "source": []
  },
  {
   "cell_type": "code",
   "execution_count": null,
   "metadata": {},
   "outputs": [],
   "source": [
    "BQ_CLIENT.delete_table(table_id)"
   ]
  },
  {
   "cell_type": "code",
   "execution_count": null,
   "metadata": {},
   "outputs": [],
   "source": []
  },
  {
   "cell_type": "code",
   "execution_count": null,
   "metadata": {},
   "outputs": [],
   "source": []
  },
  {
   "cell_type": "code",
   "execution_count": 205,
   "metadata": {},
   "outputs": [],
   "source": [
    "def _generate_query_columns_metadata_bigquery(project_id, dataset_id, table_id, exclude_columns=[]):\n",
    "    \"\"\"\n",
    "    Returns a query\n",
    "    \"\"\"\n",
    "    # Check si se configuraron columnas para excluir\n",
    "    exclude_columns_filter = \"True\"\n",
    "    if exclude_columns:\n",
    "        if len(exclude_columns[0]) > 1:\n",
    "            exclude_columns_filter = \"FIELD_PATH not in \" + str(tuple(exclude_columns)).replace(',)', ')')\n",
    "\n",
    "    query_columns_metadata = f\"\"\"\n",
    "            SELECT \n",
    "            TABLE_CATALOG as TABLE_PROJECT,\n",
    "            TABLE_SCHEMA,\n",
    "            TABLE_NAME,\n",
    "            DESCRIPTION,\n",
    "            LOWER(\n",
    "                CONCAT(\n",
    "                '(column: ',\n",
    "                c.FIELD_PATH,\n",
    "                ', type: ',\n",
    "                CASE\n",
    "                    WHEN STARTS_WITH(c.DATA_TYPE,'STRUCT') THEN 'STRUCT'\n",
    "                    WHEN STARTS_WITH(c.DATA_TYPE,'ARRAY') THEN 'ARRAY'\n",
    "                    ELSE c.DATA_TYPE\n",
    "                END,\n",
    "                ')'\n",
    "                )\n",
    "             ) as FIELD_PATH_TYPE\n",
    "        FROM {project_id}.{dataset_id}.INFORMATION_SCHEMA.COLUMN_FIELD_PATHS c\n",
    "        WHERE TABLE_SCHEMA = '{dataset_id}'\n",
    "        AND TABLE_NAME = '{table_id}'\n",
    "        AND {exclude_columns_filter}\n",
    "    \"\"\"\n",
    "    \n",
    "    return query_columns_metadata"
   ]
  },
  {
   "cell_type": "code",
   "execution_count": 207,
   "metadata": {},
   "outputs": [
    {
     "data": {
      "text/plain": [
       "\"\\n            SELECT \\n            TABLE_CATALOG as TABLE_PROJECT,\\n            TABLE_SCHEMA,\\n            TABLE_NAME,\\n            DESCRIPTION,\\n            LOWER(\\n                CONCAT(\\n                '(column: ',\\n                c.FIELD_PATH,\\n                ', type: ',\\n                CASE\\n                    WHEN STARTS_WITH(c.DATA_TYPE,'STRUCT') THEN 'STRUCT'\\n                    WHEN STARTS_WITH(c.DATA_TYPE,'ARRAY') THEN 'ARRAY'\\n                    ELSE c.DATA_TYPE\\n                END,\\n                ')'\\n                )\\n             ) as FIELD_PATH_TYPE\\n        FROM peya-data-origins-pro.raw_dmarts.INFORMATION_SCHEMA.COLUMN_FIELD_PATHS c\\n        WHERE TABLE_SCHEMA = 'raw_dmarts'\\n        AND TABLE_NAME = 'customer_orders'\\n        AND True\\n    \""
      ]
     },
     "execution_count": 207,
     "metadata": {},
     "output_type": "execute_result"
    }
   ],
   "source": [
    "_generate_query_columns_metadata_bigquery('peya-data-origins-pro', 'raw_dmarts', 'customer_orders')"
   ]
  },
  {
   "cell_type": "code",
   "execution_count": 208,
   "metadata": {},
   "outputs": [],
   "source": []
  },
  {
   "cell_type": "code",
   "execution_count": 216,
   "metadata": {},
   "outputs": [],
   "source": [
    "x = 'basic'"
   ]
  },
  {
   "cell_type": "code",
   "execution_count": 217,
   "metadata": {},
   "outputs": [
    {
     "name": "stdout",
     "output_type": "stream",
     "text": [
      "no ta\n"
     ]
    }
   ],
   "source": [
    "if x in set(result_format):\n",
    "    print('si esta')\n",
    "else:\n",
    "    print('no ta')"
   ]
  },
  {
   "cell_type": "code",
   "execution_count": null,
   "metadata": {},
   "outputs": [],
   "source": []
  }
 ],
 "metadata": {
  "kernelspec": {
   "display_name": "Python 3",
   "language": "python",
   "name": "python3"
  },
  "language_info": {
   "codemirror_mode": {
    "name": "ipython",
    "version": 3
   },
   "file_extension": ".py",
   "mimetype": "text/x-python",
   "name": "python",
   "nbconvert_exporter": "python",
   "pygments_lexer": "ipython3",
   "version": "3.7.7"
  },
  "toc": {
   "base_numbering": 1,
   "nav_menu": {},
   "number_sections": true,
   "sideBar": true,
   "skip_h1_title": false,
   "title_cell": "Table of Contents",
   "title_sidebar": "Contents",
   "toc_cell": false,
   "toc_position": {},
   "toc_section_display": true,
   "toc_window_display": false
  },
  "varInspector": {
   "cols": {
    "lenName": 16,
    "lenType": 16,
    "lenVar": 40
   },
   "kernels_config": {
    "python": {
     "delete_cmd_postfix": "",
     "delete_cmd_prefix": "del ",
     "library": "var_list.py",
     "varRefreshCmd": "print(var_dic_list())"
    },
    "r": {
     "delete_cmd_postfix": ") ",
     "delete_cmd_prefix": "rm(",
     "library": "var_list.r",
     "varRefreshCmd": "cat(var_dic_list()) "
    }
   },
   "types_to_exclude": [
    "module",
    "function",
    "builtin_function_or_method",
    "instance",
    "_Feature"
   ],
   "window_display": false
  }
 },
 "nbformat": 4,
 "nbformat_minor": 4
}
