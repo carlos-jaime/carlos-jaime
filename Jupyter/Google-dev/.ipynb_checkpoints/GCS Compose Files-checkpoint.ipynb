{
 "cells": [
  {
   "cell_type": "code",
   "execution_count": null,
   "metadata": {},
   "outputs": [],
   "source": [
    "#! pip install google-cloud-bigquery-datatransfer"
   ]
  },
  {
   "cell_type": "code",
   "execution_count": 1,
   "metadata": {
    "ExecuteTime": {
     "end_time": "2021-05-31T17:42:12.693288Z",
     "start_time": "2021-05-31T17:42:10.120355Z"
    }
   },
   "outputs": [],
   "source": [
    "from google.cloud import bigquery, storage\n",
    "import pydata_google_auth\n",
    "from google.api_core.exceptions import AlreadyExists, NotFound, BadRequest, Forbidden \n",
    "\n",
    "from datetime import datetime, timedelta\n",
    "import pytz\n",
    "import sys"
   ]
  },
  {
   "cell_type": "code",
   "execution_count": 2,
   "metadata": {
    "ExecuteTime": {
     "end_time": "2021-05-31T17:42:13.016768Z",
     "start_time": "2021-05-31T17:42:12.700268Z"
    }
   },
   "outputs": [],
   "source": [
    "SCOPES = [\n",
    "    'https://www.googleapis.com/auth/cloud-platform',\n",
    "    'https://www.googleapis.com/auth/bigquery',\n",
    "]\n",
    "\n",
    "user_credentials = pydata_google_auth.get_user_credentials(\n",
    "    SCOPES\n",
    ")"
   ]
  },
  {
   "cell_type": "code",
   "execution_count": 6,
   "metadata": {
    "ExecuteTime": {
     "end_time": "2021-05-31T17:46:48.121046Z",
     "start_time": "2021-05-31T17:46:48.116046Z"
    }
   },
   "outputs": [],
   "source": [
    "# Debes usar el json de la account Service\n",
    "GCP_CREDENTIALS = os.environ[\"GOOGLE_APPLICATION_CREDENTIALS\"]\n",
    "GCP_CREDENTIALS\n",
    "storage_client = storage.Client.from_service_account_json(json_file)"
   ]
  },
  {
   "cell_type": "code",
   "execution_count": null,
   "metadata": {},
   "outputs": [],
   "source": [
    "BUCKET = '' # Nombre del bucket donde estan los archivos\n",
    "PREFIX = '' # prefijo de los archivos, si son varios dejar el id unico con un *.  folder/subfolder/file*.txt"
   ]
  },
  {
   "cell_type": "code",
   "execution_count": 3,
   "metadata": {
    "ExecuteTime": {
     "end_time": "2021-05-31T17:43:55.708556Z",
     "start_time": "2021-05-31T17:43:55.701552Z"
    }
   },
   "outputs": [
    {
     "name": "stdout",
     "output_type": "stream",
     "text": [
      "Errors: Unable to connect with Google Store API <class 'NameError'>\n",
      "ERROROOOORORORO\n"
     ]
    }
   ],
   "source": [
    "try:\n",
    "    blobs = storage_client.list_blobs(bucket_or_name=BUCKET, prefix=PREFIX)\n",
    "\n",
    "    # list of files generated\n",
    "    list_files = []\n",
    "    list_blobs = []\n",
    "\n",
    "    # Loop into bucket using prefix \n",
    "    for blob in blobs:\n",
    "        list_files.append(blob.name)\n",
    "        list_blobs.append(blob)\n",
    "    \n",
    "    # Renave compose result file\n",
    "    # ToDo: cambiar nombre segun el prefijo de los archivos\n",
    "    compose_filename = filename_wildcard.replace('part_*','compose')\n",
    "    \n",
    "    # Puedes cambiar el destino del archivo final.\n",
    "    NEW_PREFIX = PREFIX\n",
    "    destination_prefix = '{}/{}'.format(NEW_PREFIX, compose_filename)\n",
    "\n",
    "    # Create compose filename\n",
    "    bucket = storage_client.bucket(BUCKET)\n",
    "    blob = bucket.blob(destination_prefix)\n",
    "\n",
    "    # Merge files into a one\n",
    "    destination = bucket.blob(destination_prefix)\n",
    "    destination.content_type = \"text/plain\"\n",
    "    destination.compose(list_blobs) # Este metodo es el que une los archivos en uno solo\n",
    "    \n",
    "except:\n",
    "    print('ERROROOOORORORO')"
   ]
  },
  {
   "cell_type": "code",
   "execution_count": null,
   "metadata": {},
   "outputs": [],
   "source": []
  }
 ],
 "metadata": {
  "kernelspec": {
   "display_name": "Python 3",
   "language": "python",
   "name": "python3"
  },
  "language_info": {
   "codemirror_mode": {
    "name": "ipython",
    "version": 3
   },
   "file_extension": ".py",
   "mimetype": "text/x-python",
   "name": "python",
   "nbconvert_exporter": "python",
   "pygments_lexer": "ipython3",
   "version": "3.7.7"
  },
  "toc": {
   "base_numbering": 1,
   "nav_menu": {},
   "number_sections": true,
   "sideBar": true,
   "skip_h1_title": false,
   "title_cell": "Table of Contents",
   "title_sidebar": "Contents",
   "toc_cell": false,
   "toc_position": {},
   "toc_section_display": true,
   "toc_window_display": false
  },
  "varInspector": {
   "cols": {
    "lenName": 16,
    "lenType": 16,
    "lenVar": 40
   },
   "kernels_config": {
    "python": {
     "delete_cmd_postfix": "",
     "delete_cmd_prefix": "del ",
     "library": "var_list.py",
     "varRefreshCmd": "print(var_dic_list())"
    },
    "r": {
     "delete_cmd_postfix": ") ",
     "delete_cmd_prefix": "rm(",
     "library": "var_list.r",
     "varRefreshCmd": "cat(var_dic_list()) "
    }
   },
   "types_to_exclude": [
    "module",
    "function",
    "builtin_function_or_method",
    "instance",
    "_Feature"
   ],
   "window_display": false
  }
 },
 "nbformat": 4,
 "nbformat_minor": 4
}
