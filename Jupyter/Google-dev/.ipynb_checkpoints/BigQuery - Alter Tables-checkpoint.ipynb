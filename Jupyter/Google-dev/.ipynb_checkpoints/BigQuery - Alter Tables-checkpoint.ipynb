{
 "cells": [
  {
   "cell_type": "code",
   "execution_count": 1,
   "metadata": {
    "ExecuteTime": {
     "end_time": "2021-07-06T18:46:40.933634Z",
     "start_time": "2021-07-06T18:46:40.930634Z"
    }
   },
   "outputs": [],
   "source": [
    "# Print every output from a specific cell\n",
    "from IPython.core.interactiveshell import InteractiveShell\n",
    "InteractiveShell.ast_node_interactivity = \"all\""
   ]
  },
  {
   "cell_type": "code",
   "execution_count": 2,
   "metadata": {
    "ExecuteTime": {
     "end_time": "2021-07-06T18:46:41.216686Z",
     "start_time": "2021-07-06T18:46:41.207188Z"
    }
   },
   "outputs": [
    {
     "data": {
      "text/html": [
       "<style>.container { width:80% !important; }</style>"
      ],
      "text/plain": [
       "<IPython.core.display.HTML object>"
      ]
     },
     "metadata": {},
     "output_type": "display_data"
    }
   ],
   "source": [
    "# Adjusting the screen size\n",
    "from IPython.core.display import display, HTML\n",
    "display(HTML(\"<style>.container { width:80% !important; }</style>\"))"
   ]
  },
  {
   "cell_type": "code",
   "execution_count": null,
   "metadata": {},
   "outputs": [],
   "source": []
  },
  {
   "cell_type": "code",
   "execution_count": 3,
   "metadata": {
    "ExecuteTime": {
     "end_time": "2021-07-06T18:46:42.336162Z",
     "start_time": "2021-07-06T18:46:42.333193Z"
    }
   },
   "outputs": [],
   "source": [
    "#! pip freeze"
   ]
  },
  {
   "cell_type": "code",
   "execution_count": 5,
   "metadata": {
    "ExecuteTime": {
     "end_time": "2021-07-06T18:47:10.637791Z",
     "start_time": "2021-07-06T18:47:09.254123Z"
    }
   },
   "outputs": [],
   "source": [
    "from google.cloud import bigquery\n",
    "import json\n",
    "import os"
   ]
  },
  {
   "cell_type": "code",
   "execution_count": 6,
   "metadata": {
    "ExecuteTime": {
     "end_time": "2021-07-06T18:47:10.697813Z",
     "start_time": "2021-07-06T18:47:10.650793Z"
    }
   },
   "outputs": [],
   "source": [
    "GCP_CREDENTIALS = os.environ[\"GOOGLE_APPLICATION_CREDENTIALS\"]\n",
    "\n",
    "BQ_CLIENT = bigquery.Client.from_service_account_json(GCP_CREDENTIALS)"
   ]
  },
  {
   "cell_type": "code",
   "execution_count": null,
   "metadata": {},
   "outputs": [],
   "source": []
  },
  {
   "cell_type": "code",
   "execution_count": null,
   "metadata": {},
   "outputs": [],
   "source": [
    "job = BQ_CLIENT.get_job(job_id='bquxjob_3d4f41c7_1777f1721dd', project='peya-food-and-groceries')"
   ]
  },
  {
   "cell_type": "code",
   "execution_count": null,
   "metadata": {},
   "outputs": [],
   "source": [
    "job.query"
   ]
  },
  {
   "cell_type": "code",
   "execution_count": null,
   "metadata": {},
   "outputs": [],
   "source": [
    "job.state"
   ]
  },
  {
   "cell_type": "code",
   "execution_count": null,
   "metadata": {},
   "outputs": [],
   "source": [
    "job.total_bytes_processed"
   ]
  },
  {
   "cell_type": "code",
   "execution_count": null,
   "metadata": {},
   "outputs": [],
   "source": []
  },
  {
   "cell_type": "code",
   "execution_count": null,
   "metadata": {},
   "outputs": [],
   "source": []
  },
  {
   "cell_type": "code",
   "execution_count": 7,
   "metadata": {
    "ExecuteTime": {
     "end_time": "2021-07-06T18:47:39.120394Z",
     "start_time": "2021-07-06T18:47:39.115419Z"
    }
   },
   "outputs": [],
   "source": [
    "# Table Id\n",
    "config_table =  {\"project_id\":\"peya-data-qlty-pro\",\n",
    "                 \"dataset_id\":\"gcp_cost_control\",\n",
    "                 \"table_id\":\"usage_metrics_per_user_daily\"\n",
    "        }\n",
    "\n",
    "config_table_id = '{project}.{dataset}.{table}'.format(project=config_table['project_id'],\n",
    "                                               dataset=config_table['dataset_id'],\n",
    "                                               table=config_table['table_id'])"
   ]
  },
  {
   "cell_type": "code",
   "execution_count": 8,
   "metadata": {
    "ExecuteTime": {
     "end_time": "2021-07-06T18:47:43.295316Z",
     "start_time": "2021-07-06T18:47:41.704476Z"
    }
   },
   "outputs": [],
   "source": [
    "# Obtiene la metadata de la tabla\n",
    "table = BQ_CLIENT.get_table(config_table_id)\n",
    "\n",
    "# save original_schema\n",
    "table_schema = table.schema"
   ]
  },
  {
   "cell_type": "code",
   "execution_count": 9,
   "metadata": {
    "ExecuteTime": {
     "end_time": "2021-07-06T18:47:47.941930Z",
     "start_time": "2021-07-06T18:47:47.937042Z"
    }
   },
   "outputs": [
    {
     "data": {
      "text/plain": [
       "[SchemaField('user_email', 'STRING', 'NULLABLE', 'Email address or service account of the user who ran the job.', (), None),\n",
       " SchemaField('query', 'STRING', 'NULLABLE', 'SQL query text.', (), None),\n",
       " SchemaField('statement_type', 'STRING', 'NULLABLE', 'The type of query statement, if valid. For example, SELECT, INSERT, UPDATE, or DELETE.', (), None),\n",
       " SchemaField('duration_in_seconds', 'INTEGER', 'NULLABLE', 'Diff between start date and end date of process in seconds', (), None),\n",
       " SchemaField('processed_tb', 'FLOAT', 'NULLABLE', 'Amount of TB proccessed by Job that was billed', (), None),\n",
       " SchemaField('cost_usd', 'FLOAT', 'NULLABLE', '5 (Dollar per TB)  * total_bytes_processed/POWER(2,40)', (), None),\n",
       " SchemaField('project_id', 'STRING', 'NULLABLE', 'ID of the project.', (), None),\n",
       " SchemaField('execution_date', 'DATE', 'NULLABLE', 'The Creation Date of this job', (), None),\n",
       " SchemaField('slot_usage', 'FLOAT', 'NULLABLE', 'total_slot_ms / (TIMESTAMP_DIFF(end_time, start_time, MILLISECOND)', (), None),\n",
       " SchemaField('creation_time', 'TIMESTAMP', 'NULLABLE', 'Creation time of this job. Partitioning is based on the UTC time of this timestamp.', (), None),\n",
       " SchemaField('_audi_load_date', 'TIMESTAMP', 'NULLABLE', 'Date and time of creation of the record in the table. For internal purposes', (), None),\n",
       " SchemaField('account_type', 'STRING', 'NULLABLE', 'Indicate if job was generated by Account Service or User', (), None),\n",
       " SchemaField('slot_usage_ms', 'FLOAT', 'NULLABLE', 'Slot-milliseconds for the job over its entire duration.', (), None),\n",
       " SchemaField('job_type', 'STRING', 'NULLABLE', 'The type of the job. Can be QUERY, LOAD, EXTRACT, COPY, or null. Job type null indicates an internal job, such as script job statement evaluation or materialized view refresh.', (), None),\n",
       " SchemaField('state', 'STRING', 'NULLABLE', 'Running state of the job. Valid states include PENDING, RUNNING, and DONE.', (), None),\n",
       " SchemaField('reservation_id', 'STRING', 'NULLABLE', 'Name of the primary reservation assigned to this job, if applicable. If your job ran in a project that is assigned to a reservation, it would follow this format: reservation-admin-project:reservation-location.reservation-name.', (), None),\n",
       " SchemaField('destination_table', 'RECORD', 'NULLABLE', 'Destination table for results (if any).', (SchemaField('project_id', 'STRING', 'NULLABLE', 'The ID of the project containing this table.', (), None), SchemaField('dataset_id', 'STRING', 'NULLABLE', 'The ID of the dataset containing this table.', (), None), SchemaField('table_id', 'STRING', 'NULLABLE', 'The ID of the table.', (), None)), None),\n",
       " SchemaField('referenced_tables', 'RECORD', 'REPEATED', 'Array of tables referenced by the job.', (SchemaField('project_id', 'STRING', 'NULLABLE', 'The ID of the project containing this table.', (), None), SchemaField('dataset_id', 'STRING', 'NULLABLE', 'The ID of the dataset containing this table.', (), None), SchemaField('table_id', 'STRING', 'NULLABLE', 'The ID of the table.', (), None)), None),\n",
       " SchemaField('labels', 'RECORD', 'REPEATED', 'Array of labels applied to the job as key, value strings.', (SchemaField('key', 'STRING', 'NULLABLE', 'Label Key', (), None), SchemaField('value', 'STRING', 'NULLABLE', 'Label Value', (), None)), None),\n",
       " SchemaField('records_read', 'INTEGER', 'NULLABLE', 'Number of rows read on the first state of job', (), None),\n",
       " SchemaField('records_written', 'INTEGER', 'NULLABLE', 'Number of rows written on the last state of job', (), None),\n",
       " SchemaField('error_result', 'RECORD', 'NULLABLE', 'Details of error (if any)', (SchemaField('reason', 'STRING', 'NULLABLE', 'A short error code that summarizes the error.', (), None), SchemaField('location', 'STRING', 'NULLABLE', 'Specifies where the error occurred, if present.', (), None), SchemaField('debug_info', 'STRING', 'NULLABLE', 'Debugging information. This property is internal to Google and should not be used.', (), None), SchemaField('message', 'STRING', 'NULLABLE', 'A human-readable description of the error.', (), None)), None),\n",
       " SchemaField('job_id', 'STRING', 'NULLABLE', 'ID of the job. For example, bquxjob_1234.', (), None),\n",
       " SchemaField('start_time', 'TIMESTAMP', 'NULLABLE', 'Start time of this job.', (), None),\n",
       " SchemaField('end_time', 'TIMESTAMP', 'NULLABLE', 'End time of this job.', (), None),\n",
       " SchemaField('parent_job_id', 'STRING', 'NULLABLE', 'ID of the parent job, if any.', (), None),\n",
       " SchemaField('transaction_id', 'STRING', 'NULLABLE', 'ID of the transaction in which this job ran, if any.', (), None)]"
      ]
     },
     "execution_count": 9,
     "metadata": {},
     "output_type": "execute_result"
    }
   ],
   "source": [
    "table_schema"
   ]
  },
  {
   "cell_type": "code",
   "execution_count": null,
   "metadata": {},
   "outputs": [],
   "source": [
    "original_schema = table.schema"
   ]
  },
  {
   "cell_type": "code",
   "execution_count": null,
   "metadata": {},
   "outputs": [],
   "source": [
    "new_schema = original_schema[:]  # Creates a copy of the schema."
   ]
  },
  {
   "cell_type": "code",
   "execution_count": null,
   "metadata": {},
   "outputs": [],
   "source": [
    "for field in new_schema:\n",
    "    print(field)"
   ]
  },
  {
   "cell_type": "code",
   "execution_count": null,
   "metadata": {},
   "outputs": [],
   "source": [
    "table.schema = new_schema\n",
    "table = BQ_CLIENT.update_table(table, [\"schema\"])  # Make an API request."
   ]
  },
  {
   "cell_type": "code",
   "execution_count": null,
   "metadata": {},
   "outputs": [],
   "source": []
  },
  {
   "cell_type": "code",
   "execution_count": null,
   "metadata": {},
   "outputs": [],
   "source": []
  },
  {
   "cell_type": "markdown",
   "metadata": {},
   "source": [
    "#### Update Clusters Fields"
   ]
  },
  {
   "cell_type": "code",
   "execution_count": 10,
   "metadata": {
    "ExecuteTime": {
     "end_time": "2021-07-06T18:47:55.571606Z",
     "start_time": "2021-07-06T18:47:55.567606Z"
    }
   },
   "outputs": [
    {
     "data": {
      "text/plain": [
       "['project_id', 'user_email']"
      ]
     },
     "execution_count": 10,
     "metadata": {},
     "output_type": "execute_result"
    }
   ],
   "source": [
    "table.clustering_fields"
   ]
  },
  {
   "cell_type": "code",
   "execution_count": 11,
   "metadata": {
    "ExecuteTime": {
     "end_time": "2021-07-06T18:51:26.720465Z",
     "start_time": "2021-07-06T18:51:26.716464Z"
    }
   },
   "outputs": [],
   "source": [
    "new_cluster_fields = ['project_id','user_email','statement_type','job_id']"
   ]
  },
  {
   "cell_type": "code",
   "execution_count": 12,
   "metadata": {
    "ExecuteTime": {
     "end_time": "2021-07-06T18:51:28.498675Z",
     "start_time": "2021-07-06T18:51:28.495687Z"
    }
   },
   "outputs": [],
   "source": [
    "table.clustering_fields = new_cluster_fields"
   ]
  },
  {
   "cell_type": "code",
   "execution_count": 13,
   "metadata": {
    "ExecuteTime": {
     "end_time": "2021-07-06T18:51:30.758609Z",
     "start_time": "2021-07-06T18:51:30.066102Z"
    }
   },
   "outputs": [],
   "source": [
    "# Actualiza Clusters Fields\n",
    "table_updated = BQ_CLIENT.update_table(table,[\"clustering\"])"
   ]
  },
  {
   "cell_type": "code",
   "execution_count": null,
   "metadata": {},
   "outputs": [],
   "source": [
    "dag_name = 'DAG_NAME_TEST'\n",
    "# Specify bigquery job labels\n",
    "BQ_JOB_LABELS = {\n",
    "    \"dag\":dag_name,\n",
    "    \"task\":\"\",\n",
    "    \"team\":\"data-quality@pedidosya.com\",\n",
    "    \"owner\":\"diego.pietruszka@pedidosya.com,carlos.jaime@pedidosya.com\"\n",
    "}"
   ]
  },
  {
   "cell_type": "code",
   "execution_count": null,
   "metadata": {},
   "outputs": [],
   "source": [
    "BQ_JOB_LABELS"
   ]
  },
  {
   "cell_type": "code",
   "execution_count": null,
   "metadata": {},
   "outputs": [],
   "source": [
    "BQ_JOB_LABELS['task'] = 'task_name2'"
   ]
  },
  {
   "cell_type": "code",
   "execution_count": null,
   "metadata": {},
   "outputs": [],
   "source": [
    "BQ_JOB_LABELS"
   ]
  },
  {
   "cell_type": "code",
   "execution_count": null,
   "metadata": {},
   "outputs": [],
   "source": [
    "label = 'Ola.Todos113231_  @ '"
   ]
  },
  {
   "cell_type": "code",
   "execution_count": null,
   "metadata": {},
   "outputs": [],
   "source": [
    "label.translate(str.maketrans({'.': '_', ' ': ''})).lower()"
   ]
  },
  {
   "cell_type": "code",
   "execution_count": null,
   "metadata": {},
   "outputs": [],
   "source": [
    "def format_bigquery_job_labels_values(value):\n",
    "    # Keys and values can contain only lowercase letters, numeric characters, underscores, and dashes.\n",
    "    # All characters must use UTF-8 encoding, and international characters are allowed.\n",
    "    dict_format = {'.': '_', \n",
    "                   ' ': '',\n",
    "                  '@':'-'}\n",
    "    format_value = value.translate(str.maketrans(dict_format)).lower()\n",
    "\n",
    "    return format_value"
   ]
  },
  {
   "cell_type": "code",
   "execution_count": null,
   "metadata": {},
   "outputs": [],
   "source": [
    "format_bigquery_job_labels_values(label)"
   ]
  },
  {
   "cell_type": "code",
   "execution_count": null,
   "metadata": {},
   "outputs": [],
   "source": []
  },
  {
   "cell_type": "markdown",
   "metadata": {},
   "source": [
    "#### Update Expiration time"
   ]
  },
  {
   "cell_type": "code",
   "execution_count": null,
   "metadata": {
    "ExecuteTime": {
     "end_time": "2021-03-22T18:24:29.997995Z",
     "start_time": "2021-03-22T18:24:29.978997Z"
    }
   },
   "outputs": [],
   "source": [
    "from datetime import datetime, timedelta, datetime\n",
    "import pytz\n",
    "\n",
    "\n",
    "\n",
    "\n"
   ]
  },
  {
   "cell_type": "code",
   "execution_count": null,
   "metadata": {
    "ExecuteTime": {
     "end_time": "2021-03-22T18:24:07.708592Z",
     "start_time": "2021-03-22T18:24:07.705341Z"
    }
   },
   "outputs": [],
   "source": [
    "view_id = 'peya-data-qlty-pro.framework_temporal_views.ge_mt_peya-bi-tools-pro_dim_user_20210322_150000'"
   ]
  },
  {
   "cell_type": "code",
   "execution_count": null,
   "metadata": {
    "ExecuteTime": {
     "end_time": "2021-03-22T18:28:22.559453Z",
     "start_time": "2021-03-22T18:28:22.555460Z"
    }
   },
   "outputs": [],
   "source": [
    "project_id = view_id.split('.')[0]\n",
    "dataset_id = view_id.split('.')[1]\n",
    "table_id = view_id.split('.')[2]"
   ]
  },
  {
   "cell_type": "code",
   "execution_count": null,
   "metadata": {
    "ExecuteTime": {
     "end_time": "2021-03-22T18:29:23.636377Z",
     "start_time": "2021-03-22T18:29:21.472276Z"
    }
   },
   "outputs": [],
   "source": [
    "\n",
    "from google.cloud import bigquery\n",
    "BQ_CLIENT = bigquery.Client.from_service_account_json(GCP_CREDENTIALS)\n",
    "\n",
    "dataset_ref = bigquery.DatasetReference(project_id, dataset_id)\n",
    "table_ref = dataset_ref.table(table_id)\n",
    "table = BQ_CLIENT.get_table(table_ref)  # API request\n",
    "\n",
    "\n",
    "expiration = datetime.now(pytz.utc) + timedelta(days=1)\n",
    "table.expires = expiration\n",
    "table = BQ_CLIENT.update_table(table, [\"expires\"])  # API request"
   ]
  },
  {
   "cell_type": "code",
   "execution_count": null,
   "metadata": {},
   "outputs": [],
   "source": []
  },
  {
   "cell_type": "code",
   "execution_count": null,
   "metadata": {
    "ExecuteTime": {
     "end_time": "2021-03-22T17:53:53.108064Z",
     "start_time": "2021-03-22T17:53:52.268565Z"
    }
   },
   "outputs": [],
   "source": [
    "# set table to expire 5 days from now\n",
    "expiration = datetime.now(pytz.utc) + timedelta(days=5)\n",
    "table.expires = expiration\n",
    "table = BQ_CLIENT.update_table(table, [\"expires\"])  # API request\n",
    "\n",
    "# expiration is stored in milliseconds\n",
    "margin = timedelta(microseconds=1000)\n",
    "assert expiration - margin <= table.expires <= expiration + margin"
   ]
  },
  {
   "cell_type": "code",
   "execution_count": null,
   "metadata": {},
   "outputs": [],
   "source": []
  }
 ],
 "metadata": {
  "kernelspec": {
   "display_name": "Python 3",
   "language": "python",
   "name": "python3"
  },
  "language_info": {
   "codemirror_mode": {
    "name": "ipython",
    "version": 3
   },
   "file_extension": ".py",
   "mimetype": "text/x-python",
   "name": "python",
   "nbconvert_exporter": "python",
   "pygments_lexer": "ipython3",
   "version": "3.7.7"
  },
  "toc": {
   "base_numbering": 1,
   "nav_menu": {},
   "number_sections": true,
   "sideBar": true,
   "skip_h1_title": false,
   "title_cell": "Table of Contents",
   "title_sidebar": "Contents",
   "toc_cell": false,
   "toc_position": {},
   "toc_section_display": true,
   "toc_window_display": false
  },
  "varInspector": {
   "cols": {
    "lenName": 16,
    "lenType": 16,
    "lenVar": 40
   },
   "kernels_config": {
    "python": {
     "delete_cmd_postfix": "",
     "delete_cmd_prefix": "del ",
     "library": "var_list.py",
     "varRefreshCmd": "print(var_dic_list())"
    },
    "r": {
     "delete_cmd_postfix": ") ",
     "delete_cmd_prefix": "rm(",
     "library": "var_list.r",
     "varRefreshCmd": "cat(var_dic_list()) "
    }
   },
   "types_to_exclude": [
    "module",
    "function",
    "builtin_function_or_method",
    "instance",
    "_Feature"
   ],
   "window_display": false
  }
 },
 "nbformat": 4,
 "nbformat_minor": 4
}
