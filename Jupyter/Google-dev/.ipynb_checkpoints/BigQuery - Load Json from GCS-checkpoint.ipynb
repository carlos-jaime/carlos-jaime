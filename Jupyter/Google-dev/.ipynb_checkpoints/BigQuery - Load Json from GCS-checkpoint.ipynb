{
 "cells": [
  {
   "cell_type": "code",
   "execution_count": 1,
   "metadata": {
    "ExecuteTime": {
     "end_time": "2021-04-07T21:00:21.751350Z",
     "start_time": "2021-04-07T21:00:21.747370Z"
    }
   },
   "outputs": [],
   "source": [
    "# Print every output from a specific cell\n",
    "from IPython.core.interactiveshell import InteractiveShell\n",
    "InteractiveShell.ast_node_interactivity = \"all\""
   ]
  },
  {
   "cell_type": "code",
   "execution_count": 2,
   "metadata": {
    "ExecuteTime": {
     "end_time": "2021-04-07T21:00:22.085832Z",
     "start_time": "2021-04-07T21:00:22.077856Z"
    }
   },
   "outputs": [
    {
     "data": {
      "text/html": [
       "<style>.container { width:80% !important; }</style>"
      ],
      "text/plain": [
       "<IPython.core.display.HTML object>"
      ]
     },
     "metadata": {},
     "output_type": "display_data"
    }
   ],
   "source": [
    "# Adjusting the screen size\n",
    "from IPython.core.display import display, HTML\n",
    "display(HTML(\"<style>.container { width:80% !important; }</style>\"))"
   ]
  },
  {
   "cell_type": "code",
   "execution_count": 3,
   "metadata": {
    "ExecuteTime": {
     "end_time": "2021-04-07T21:00:24.111047Z",
     "start_time": "2021-04-07T21:00:22.314697Z"
    }
   },
   "outputs": [],
   "source": [
    "from google.cloud import bigquery\n",
    "from datetime import date, datetime, timedelta\n",
    "import json"
   ]
  },
  {
   "cell_type": "code",
   "execution_count": 4,
   "metadata": {
    "ExecuteTime": {
     "end_time": "2021-04-07T21:00:24.138605Z",
     "start_time": "2021-04-07T21:00:24.122934Z"
    }
   },
   "outputs": [],
   "source": [
    "GCP_CREDENTIALS = os.environ[\"GOOGLE_APPLICATION_CREDENTIALS\"]\n",
    "GCP_CREDENTIALS\n",
    "BQ_CLIENT = bigquery.Client.from_service_account_json(GCP_CREDENTIALS)"
   ]
  },
  {
   "cell_type": "code",
   "execution_count": 5,
   "metadata": {
    "ExecuteTime": {
     "end_time": "2021-04-07T21:00:24.151579Z",
     "start_time": "2021-04-07T21:00:24.147557Z"
    }
   },
   "outputs": [],
   "source": [
    "json_file = r'C:\\Users\\carlos.jaime\\Repositories\\data-dataquality-dags\\dq_great_expectations_project\\PeyaDataQuality_GE\\uncommitted\\validations\\stg_il_core\\dim_user\\basic\\20210304T035741.075325Z\\20210304T035741.075325Z\\296e7f7643e92c070af66bf8d092bea2.json'\n",
    "jsonl_file = r'C:\\Users\\carlos.jaime\\Repositories\\data-dataquality-dags\\dq_great_expectations_project\\PeyaDataQuality_GE\\uncommitted\\validations\\stg_il_core\\dim_user\\basic\\20210304T035741.075325Z\\20210304T035741.075325Z\\296e7f7643e92c070af66bf8d092bea2.jsonl'\n"
   ]
  },
  {
   "cell_type": "code",
   "execution_count": null,
   "metadata": {
    "ExecuteTime": {
     "end_time": "2021-03-19T01:12:21.461010Z",
     "start_time": "2021-03-19T01:12:21.457012Z"
    }
   },
   "outputs": [],
   "source": [
    "\n",
    "\n",
    "uri = \"gs://peya-great-expectations-project-pro/great_expectations_context/validations/test/stg_il_core/dim_user/basic/20210304T035741.075325Z/20210304T035741.075325Z/296e7f7643e92c070af66bf8d092bea2.json\""
   ]
  },
  {
   "cell_type": "code",
   "execution_count": null,
   "metadata": {
    "ExecuteTime": {
     "end_time": "2021-03-26T15:41:32.603657Z",
     "start_time": "2021-03-26T15:41:32.600656Z"
    }
   },
   "outputs": [],
   "source": [
    "config = bigquery.QueryJobConfig(dry_run=False, use_query_cache=True, labels={\"team\":\"data_quality\"})"
   ]
  },
  {
   "cell_type": "code",
   "execution_count": null,
   "metadata": {
    "ExecuteTime": {
     "end_time": "2021-03-19T20:58:41.272807Z",
     "start_time": "2021-03-19T20:58:39.485798Z"
    }
   },
   "outputs": [],
   "source": [
    "query = \"\"\"\n",
    "         #standardSQL\n",
    "         SELECT user_id, country_id, registered_date, customer_id, user_type, user_state, audi_load_date FROM `peya-bi-tools-pro.stg_il_core.dim_user`\n",
    "         \"\"\"\n",
    "query_job = BQ_CLIENT.query(query, job_config=config, job_id_prefix='ge_check_schema_')\n",
    "result = query_job.result()\n",
    "\n",
    "schema = result.schema "
   ]
  },
  {
   "cell_type": "code",
   "execution_count": null,
   "metadata": {
    "ExecuteTime": {
     "end_time": "2021-03-19T20:56:02.292845Z",
     "start_time": "2021-03-19T20:56:02.288847Z"
    }
   },
   "outputs": [],
   "source": [
    "bigquery.Table(view_id,)"
   ]
  },
  {
   "cell_type": "markdown",
   "metadata": {},
   "source": [
    "### Creacion de la tabla raw_validations"
   ]
  },
  {
   "cell_type": "code",
   "execution_count": null,
   "metadata": {
    "ExecuteTime": {
     "end_time": "2021-03-26T15:44:40.085380Z",
     "start_time": "2021-03-26T15:44:40.077376Z"
    }
   },
   "outputs": [],
   "source": [
    "# Schema\n",
    "raw_validation_schema = [\n",
    "    bigquery.SchemaField(\"run_name\", \"STRING\", mode=\"NULLABLE\"),\n",
    "    bigquery.SchemaField(\"run_time\", \"TIMESTAMP\", mode=\"NULLABLE\"),\n",
    "    bigquery.SchemaField(\"file\", \"STRING\", mode=\"NULLABLE\"),\n",
    "    bigquery.SchemaField(\"evaluation_parameters\", \"STRING\", mode=\"NULLABLE\"),\n",
    "    bigquery.SchemaField(\"statistics\", \"STRING\", mode=\"NULLABLE\"),\n",
    "    bigquery.SchemaField(\"results\", \"RECORD\", mode=\"REPEATED\", fields=[\n",
    "        bigquery.SchemaField(\"result\", \"STRING\", mode=\"NULLABLE\"),\n",
    "        bigquery.SchemaField(\"success\", \"BOOLEAN\", mode=\"NULLABLE\"),\n",
    "        bigquery.SchemaField(\"expectation_config\", \"STRING\", mode=\"NULLABLE\"),\n",
    "        bigquery.SchemaField(\"meta\", \"STRING\", mode=\"NULLABLE\"),\n",
    "        bigquery.SchemaField(\"exception_info\", \"STRING\", mode=\"NULLABLE\"),\n",
    "        bigquery.SchemaField(\"extra\", \"STRING\", mode=\"NULLABLE\")\n",
    "    ]),\n",
    "    bigquery.SchemaField(\"success\", \"BOOLEAN\", mode=\"NULLABLE\"),\n",
    "    bigquery.SchemaField(\"meta\",\"RECORD\",mode=\"NULLABLE\",\n",
    "    fields=[\n",
    "        bigquery.SchemaField(\"batch_kwargs\", \"STRING\", mode=\"NULLABLE\"),\n",
    "        bigquery.SchemaField(\"batch_markers\", \"STRING\", mode=\"NULLABLE\"),\n",
    "        bigquery.SchemaField(\"great_expectations_version\", \"STRING\", mode=\"NULLABLE\"),\n",
    "        bigquery.SchemaField(\"expectation_suite_name\", \"STRING\", mode=\"NULLABLE\"),\n",
    "        bigquery.SchemaField(\"extra\", \"STRING\", mode=\"NULLABLE\")\n",
    "    ]),\n",
    "    bigquery.SchemaField(\"raw_json\", \"STRING\", mode=\"NULLABLE\"),\n",
    "    bigquery.SchemaField(\"audi_load_date\", \"TIMESTAMP\", mode=\"NULLABLE\")\n",
    "]"
   ]
  },
  {
   "cell_type": "code",
   "execution_count": null,
   "metadata": {
    "ExecuteTime": {
     "end_time": "2021-03-26T15:44:43.452217Z",
     "start_time": "2021-03-26T15:44:43.449188Z"
    }
   },
   "outputs": [],
   "source": [
    "project = 'peya-data-qlty-pro'\n",
    "dataset_ref = bigquery.DatasetReference(project, 'framework_metadata')\n",
    "\n",
    "table_ref = dataset_ref.table(\"raw_validations\")"
   ]
  },
  {
   "cell_type": "code",
   "execution_count": null,
   "metadata": {
    "ExecuteTime": {
     "end_time": "2021-03-26T15:44:46.195180Z",
     "start_time": "2021-03-26T15:44:44.782534Z"
    }
   },
   "outputs": [],
   "source": [
    "\n",
    "# Borrado de la tabla\n",
    "table_id = \"peya-data-qlty-pro.framework_metadata.raw_validations\"\n",
    "\n",
    "BQ_CLIENT.delete_table(table_id, not_found_ok=True)  # Make an API request.\n",
    "\n",
    "print(\"Deleted table '{}'.\".format(table_id))\n"
   ]
  },
  {
   "cell_type": "code",
   "execution_count": null,
   "metadata": {
    "ExecuteTime": {
     "end_time": "2021-03-26T15:45:25.516807Z",
     "start_time": "2021-03-26T15:45:25.128535Z"
    }
   },
   "outputs": [],
   "source": [
    "# Creación de la tabla\n",
    "table = bigquery.Table(table_ref, schema=raw_validation_schema)\n",
    "\n",
    "table.time_partitioning = bigquery.TimePartitioning(\n",
    "    type_=bigquery.TimePartitioningType.DAY,\n",
    "    field=\"run_time\"  # name of column to use for partitioning\n",
    ")  \n",
    "\n",
    "table.clustering_fields = [\"run_name\", \"run_time\"]\n",
    "\n",
    "table = BQ_CLIENT.create_table(table)  # API request"
   ]
  },
  {
   "cell_type": "markdown",
   "metadata": {},
   "source": [
    "### Lectura de archivo json en GCS"
   ]
  },
  {
   "cell_type": "code",
   "execution_count": null,
   "metadata": {
    "ExecuteTime": {
     "end_time": "2021-03-26T15:45:34.724693Z",
     "start_time": "2021-03-26T15:45:33.849076Z"
    }
   },
   "outputs": [],
   "source": [
    "import json\n",
    "from io import StringIO\n",
    "\n",
    "from google.cloud import storage\n",
    "\n",
    "storage_client = storage.Client.from_service_account_json(GCP_CREDENTIALS)\n",
    "\n",
    "BUCKET_NAME = 'peya-great-expectations-project-pro'\n",
    "FOLDER_FILE_NAME = 'great_expectations_context/validations/UsersType/Il/basic/DataQuality_Validation_UsersType.Il.basic_20210319_140820/20210319T140820.000000Z/964e14b8e9197a7371505a09e56ae140.json'\n",
    "\n",
    "bucket = storage_client.get_bucket(BUCKET_NAME)\n",
    "\n",
    "blob = bucket.blob(FOLDER_FILE_NAME)\n",
    "\n",
    "# Download the contents of the blob as a string and then parse it using json.loads() method\n",
    "VALIDATION_DATA = json.loads(blob.download_as_string(client=None))\n"
   ]
  },
  {
   "cell_type": "markdown",
   "metadata": {},
   "source": [
    "#### Parseo de Archivo"
   ]
  },
  {
   "cell_type": "code",
   "execution_count": null,
   "metadata": {
    "ExecuteTime": {
     "end_time": "2021-03-26T15:45:38.194557Z",
     "start_time": "2021-03-26T15:45:38.183554Z"
    }
   },
   "outputs": [],
   "source": [
    "evaluation_parameters = '{}'.format(VALIDATION_DATA.get('evaluation_parameters')) #json\n",
    "print('* evaluation_parameters --> \\n{}\\n'.format(evaluation_parameters))\n",
    "\n",
    "statistics = '{}'.format(VALIDATION_DATA.get('statistics')) # json\n",
    "print('* statistics --> \\n{}\\n'.format(statistics))\n",
    "\n",
    "if VALIDATION_DATA.get('results'):\n",
    "    results_list = []\n",
    "    results = VALIDATION_DATA.get('results')\n",
    "    for res in results:\n",
    "        results_result = '{}'.format(res.get('result')) # json\n",
    "        results_success = res.get('success') # boolean\n",
    "        results_expectation_config = '{}'.format(res.get('expectation_config')) # json\n",
    "        results_meta = '{}'.format(res.get('meta', {})) # json\n",
    "        results_exception_info = '{}'.format(res.get('exception_info')) # json\n",
    "        \n",
    "        results_list.append({\n",
    "            u\"result\": results_result,\n",
    "            u\"success\": results_success,\n",
    "            u\"expectation_config\": results_expectation_config,\n",
    "            u\"meta\": results_meta,\n",
    "            u\"exception_info\": results_exception_info,\n",
    "            u\"extra\": None\n",
    "        })\n",
    "        \n",
    "        \n",
    "    print('* result --> \\n{}\\n'.format(results_list))\n",
    "        \n",
    "        \n",
    "\n",
    "success = VALIDATION_DATA.get('success',False) # boolean\n",
    "print('* success --> \\n{}\\n'.format(success)) \n",
    "\n",
    "if VALIDATION_DATA.get('meta'):\n",
    "    meta_dict = {}\n",
    "    meta = VALIDATION_DATA.get('meta')\n",
    "    if meta.get('run_id'):\n",
    "        run_id = meta.get('run_id')\n",
    "        run_name = run_id.get('run_name') # string\n",
    "        run_time = run_id.get('run_time') # timestamp\n",
    "\n",
    "    meta_dict['batch_kwargs'] = '{}'.format(meta.get('batch_kwargs')) # json\n",
    "    meta_dict['batch_markers'] = '{}'.format(meta.get('batch_markers')) # json\n",
    "    meta_dict['great_expectations_version'] = meta.get('great_expectations_version') # string\n",
    "    meta_dict['expectation_suite_name'] = meta.get('expectation_suite_name') # string\n",
    "    meta_dict['extra'] = None\n",
    "  \n",
    "print('* meta --> \\n{}\\n'.format(meta_dict))\n"
   ]
  },
  {
   "cell_type": "markdown",
   "metadata": {},
   "source": [
    "#### Linea a insertar"
   ]
  },
  {
   "cell_type": "code",
   "execution_count": null,
   "metadata": {
    "ExecuteTime": {
     "end_time": "2021-03-26T15:46:10.173044Z",
     "start_time": "2021-03-26T15:46:10.169041Z"
    }
   },
   "outputs": [],
   "source": [
    "row_to_insert = [\n",
    "    {u\"run_name\": run_name, \n",
    "     u\"run_time\": run_time,\n",
    "     u\"file\": 'test',\n",
    "     u\"evaluation_parameters\": '{}'.format(evaluation_parameters),\n",
    "     u\"statistics\": '{}'.format(statistics),\n",
    "     u\"results\": results_list, # Record Repeated\n",
    "     u\"success\": success,\n",
    "     u\"meta\": meta_dict, # Record Nulleable\n",
    "     u\"raw_json\": '{}'.format(VALIDATION_DATA), # All json Data\n",
    "     u\"audi_load_date\": datetime.strftime(datetime.now(), \"%Y-%m-%d %H:%M:%S\")\n",
    "    }\n",
    "]"
   ]
  },
  {
   "cell_type": "code",
   "execution_count": null,
   "metadata": {
    "ExecuteTime": {
     "end_time": "2021-03-24T17:26:50.462670Z",
     "start_time": "2021-03-24T17:26:50.452540Z"
    }
   },
   "outputs": [],
   "source": [
    "row_to_insert = [{'run_name': 'DataQuality_Validation_Users.Il.basic_20210324_152432', 'run_time': '2021-03-24T15:24:32+00:00', 'entity': None, 'evaluation_parameters': '{}', 'statistics': \"{'evaluated_expectations': 3, 'successful_expectations': 0, 'unsuccessful_expectations': 3, 'success_percent': 0.0}\", 'results': [{'result': \"{'element_count': 32833614, 'unexpected_count': 32725727, 'unexpected_percent': 99.67141296111967, 'unexpected_percent_total': 99.67141296111967, 'partial_unexpected_list': []}\", 'success': False, 'expectation_config': \"{'kwargs': {'column': 'user_state', 'mostly': 0.5, 'result_format': 'SUMMARY'}, 'expectation_type': 'expect_column_values_to_not_be_null', 'meta': {'description': 'Percentage of null values in Users dimension', 'dimension': 'Validity', 'id': 'stg_il_core_dim_user_user_state_PercentageOfNullValues', 'layer': 'Intelligence Layer', 'owner': 'carlos.jaime@pedidosya.com'}}\", 'meta': '{}', 'exception_info': \"{'raised_exception': False, 'exception_message': None, 'exception_traceback': None}\", 'extra': None}, {'result': \"{'element_count': 32833614, 'unexpected_count': 32725727, 'unexpected_percent': 99.67141296111967, 'unexpected_percent_total': 99.67141296111967, 'partial_unexpected_list': []}\", 'success': False, 'expectation_config': \"{'kwargs': {'column': 'user_state', 'mostly': 0.5, 'result_format': 'SUMMARY'}, 'expectation_type': 'expect_column_values_to_not_be_null', 'meta': {'description': 'Percentage of null values in Users dimension', 'dimension': 'Validity', 'id': 'stg_il_core_dim_user_user_state_PercentageOfNullValues', 'layer': 'Intelligence Layer', 'owner': 'carlos.jaime@pedidosya.com'}}\", 'meta': '{}', 'exception_info': \"{'raised_exception': False, 'exception_message': None, 'exception_traceback': None}\", 'extra': None}, {'result': \"{'element_count': 32833614, 'missing_count': 0, 'missing_percent': 0.0, 'unexpected_count': 4026143, 'unexpected_percent': 12.26225964647084, 'unexpected_percent_total': 12.26225964647084, 'unexpected_percent_nonmissing': 12.26225964647084, 'partial_unexpected_list': [18, 18, 18, 18, 18, 18, 18, 18, 18, 18, 18, 18, 18, 18, 18, 18, 18, 18, 18, 18], 'partial_unexpected_index_list': None, 'partial_unexpected_counts': [{'value': 18, 'count': 20}]}\", 'success': False, 'expectation_config': \"{'kwargs': {'column': 'country_id', 'mostly': 1, 'value_set': [1, 2, 3, 4, 5, 6, 7, 8, 9, 10, 11], 'result_format': 'SUMMARY'}, 'expectation_type': 'expect_column_values_to_be_in_set', 'meta': {'description': 'Percentage of out-of-range values in the users dimension', 'dimension': 'Validity', 'id': 'stg_il_core_dim_user_country_id_PercentageOfValuesOutOfRange'}}\", 'meta': '{}', 'exception_info': \"{'raised_exception': False, 'exception_message': None, 'exception_traceback': None}\", 'extra': None}], 'success': False, 'meta': {'batch_kwargs': \"{'table': 'ge_mt_peya-bi-tools-pro_dim_user_20210324_150000', 'schema': 'framework_temporal_views', 'datasource': 'bq_datasource'}\", 'batch_markers': \"{'ge_load_time': '20210324T152432.368498Z'}\", 'great_expectations_version': '0.13.14', 'expectation_suite_name': 'Users.Il.basic', 'extra': None}, 'raw_json': \"{'evaluation_parameters': {}, 'meta': {'great_expectations_version': '0.13.14', 'expectation_suite_name': 'Users.Il.basic', 'run_id': {'run_time': '2021-03-24T15:24:32+00:00', 'run_name': 'DataQuality_Validation_Users.Il.basic_20210324_152432'}, 'batch_kwargs': {'table': 'ge_mt_peya-bi-tools-pro_dim_user_20210324_150000', 'schema': 'framework_temporal_views', 'datasource': 'bq_datasource'}, 'batch_markers': {'ge_load_time': '20210324T152432.368498Z'}, 'batch_parameters': None, 'validation_time': '20210324T152432.680532Z'}, 'results': [{'result': {'element_count': 32833614, 'unexpected_count': 32725727, 'unexpected_percent': 99.67141296111967, 'unexpected_percent_total': 99.67141296111967, 'partial_unexpected_list': []}, 'exception_info': {'raised_exception': False, 'exception_message': None, 'exception_traceback': None}, 'meta': {}, 'success': False, 'expectation_config': {'kwargs': {'column': 'user_state', 'mostly': 0.5, 'result_format': 'SUMMARY'}, 'expectation_type': 'expect_column_values_to_not_be_null', 'meta': {'description': 'Percentage of null values in Users dimension', 'dimension': 'Validity', 'id': 'stg_il_core_dim_user_user_state_PercentageOfNullValues', 'layer': 'Intelligence Layer', 'owner': 'carlos.jaime@pedidosya.com'}}}, {'result': {'element_count': 32833614, 'unexpected_count': 32725727, 'unexpected_percent': 99.67141296111967, 'unexpected_percent_total': 99.67141296111967, 'partial_unexpected_list': []}, 'exception_info': {'raised_exception': False, 'exception_message': None, 'exception_traceback': None}, 'meta': {}, 'success': False, 'expectation_config': {'kwargs': {'column': 'user_state', 'mostly': 0.5, 'result_format': 'SUMMARY'}, 'expectation_type': 'expect_column_values_to_not_be_null', 'meta': {'description': 'Percentage of null values in Users dimension', 'dimension': 'Validity', 'id': 'stg_il_core_dim_user_user_state_PercentageOfNullValues', 'layer': 'Intelligence Layer', 'owner': 'carlos.jaime@pedidosya.com'}}}, {'result': {'element_count': 32833614, 'missing_count': 0, 'missing_percent': 0.0, 'unexpected_count': 4026143, 'unexpected_percent': 12.26225964647084, 'unexpected_percent_total': 12.26225964647084, 'unexpected_percent_nonmissing': 12.26225964647084, 'partial_unexpected_list': [18, 18, 18, 18, 18, 18, 18, 18, 18, 18, 18, 18, 18, 18, 18, 18, 18, 18, 18, 18], 'partial_unexpected_index_list': None, 'partial_unexpected_counts': [{'value': 18, 'count': 20}]}, 'exception_info': {'raised_exception': False, 'exception_message': None, 'exception_traceback': None}, 'meta': {}, 'success': False, 'expectation_config': {'kwargs': {'column': 'country_id', 'mostly': 1, 'value_set': [1, 2, 3, 4, 5, 6, 7, 8, 9, 10, 11], 'result_format': 'SUMMARY'}, 'expectation_type': 'expect_column_values_to_be_in_set', 'meta': {'description': 'Percentage of out-of-range values in the users dimension', 'dimension': 'Validity', 'id': 'stg_il_core_dim_user_country_id_PercentageOfValuesOutOfRange'}}}], 'success': False, 'statistics': {'evaluated_expectations': 3, 'successful_expectations': 0, 'unsuccessful_expectations': 3, 'success_percent': 0.0}}\", 'audi_load_date': '2021-03-24 15:25:44'}]"
   ]
  },
  {
   "cell_type": "code",
   "execution_count": null,
   "metadata": {},
   "outputs": [],
   "source": [
    "row_to_insert = [{'run_name': 'DataQuality_Validation_UsersType.Il.basic_20210324_152548', 'run_time': '2021-03-24T15:25:48+00:00', 'entity': None, 'evaluation_parameters': '{}', 'statistics': \"{'evaluated_expectations': 2, 'successful_expectations': 1, 'unsuccessful_expectations': 1, 'success_percent': 50.0}\", 'results': [{'result': \"{'element_count': 56, 'unexpected_count': 0, 'unexpected_percent': 0.0, 'unexpected_percent_total': 0.0, 'partial_unexpected_list': []}\", 'success': True, 'expectation_config': \"{'kwargs': {'column': 'user_type_name', 'mostly': 0, 'result_format': 'SUMMARY'}, 'expectation_type': 'expect_column_values_to_not_be_null', 'meta': {'description': 'Percentage of null values in Users Type dimension', 'dimension': 'Validity', 'id': 'stg_il_core_dim_user_type_user_type_name_PercentageOfNullValues', 'layer': 'Intelligence Layer', 'owner': 'carlos.jaime@pedidosya.com'}}\", 'meta': '{}', 'exception_info': \"{'raised_exception': False, 'exception_message': None, 'exception_traceback': None}\", 'extra': None}, {'result': \"{'observed_value': 4}\", 'success': False, 'expectation_config': \"{'kwargs': {'min_value': 55, 'result_format': 'SUMMARY'}, 'expectation_type': 'expect_table_column_count_to_be_between', 'meta': {'description': 'Percentage of out-of-range values in the users dimension', 'dimension': 'completeness', 'id': 'stg_il_core_dim_user_type_columns_PercentageOfValuesOutOfRange'}}\", 'meta': '{}', 'exception_info': \"{'raised_exception': False, 'exception_message': None, 'exception_traceback': None}\", 'extra': None}], 'success': False, 'meta': {'batch_kwargs': \"{'table': 'dim_user_type', 'schema': 'stg_il_core', 'datasource': 'bq_datasource'}\", 'batch_markers': \"{'ge_load_time': '20210324T152548.464513Z'}\", 'great_expectations_version': '0.13.14', 'expectation_suite_name': 'UsersType.Il.basic', 'extra': None}, 'raw_json': \"{'evaluation_parameters': {}, 'meta': {'great_expectations_version': '0.13.14', 'expectation_suite_name': 'UsersType.Il.basic', 'run_id': {'run_time': '2021-03-24T15:25:48+00:00', 'run_name': 'DataQuality_Validation_UsersType.Il.basic_20210324_152548'}, 'batch_kwargs': {'table': 'dim_user_type', 'schema': 'stg_il_core', 'datasource': 'bq_datasource'}, 'batch_markers': {'ge_load_time': '20210324T152548.464513Z'}, 'batch_parameters': None, 'validation_time': '20210324T152548.632506Z'}, 'results': [{'result': {'element_count': 56, 'unexpected_count': 0, 'unexpected_percent': 0.0, 'unexpected_percent_total': 0.0, 'partial_unexpected_list': []}, 'exception_info': {'raised_exception': False, 'exception_message': None, 'exception_traceback': None}, 'meta': {}, 'success': True, 'expectation_config': {'kwargs': {'column': 'user_type_name', 'mostly': 0, 'result_format': 'SUMMARY'}, 'expectation_type': 'expect_column_values_to_not_be_null', 'meta': {'description': 'Percentage of null values in Users Type dimension', 'dimension': 'Validity', 'id': 'stg_il_core_dim_user_type_user_type_name_PercentageOfNullValues', 'layer': 'Intelligence Layer', 'owner': 'carlos.jaime@pedidosya.com'}}}, {'result': {'observed_value': 4}, 'exception_info': {'raised_exception': False, 'exception_message': None, 'exception_traceback': None}, 'meta': {}, 'success': False, 'expectation_config': {'kwargs': {'min_value': 55, 'result_format': 'SUMMARY'}, 'expectation_type': 'expect_table_column_count_to_be_between', 'meta': {'description': 'Percentage of out-of-range values in the users dimension', 'dimension': 'completeness', 'id': 'stg_il_core_dim_user_type_columns_PercentageOfValuesOutOfRange'}}}], 'success': False, 'statistics': {'evaluated_expectations': 2, 'successful_expectations': 1, 'unsuccessful_expectations': 1, 'success_percent': 50.0}}\", 'audi_load_date': '2021-03-24 15:26:42'}]"
   ]
  },
  {
   "cell_type": "code",
   "execution_count": null,
   "metadata": {
    "ExecuteTime": {
     "end_time": "2021-03-24T17:27:09.543682Z",
     "start_time": "2021-03-24T17:27:09.535681Z"
    }
   },
   "outputs": [],
   "source": [
    "row_id = 'DataQuality_Validation_Users.Il.basic_20210324_152432'\n",
    "row_id"
   ]
  },
  {
   "cell_type": "code",
   "execution_count": null,
   "metadata": {
    "ExecuteTime": {
     "end_time": "2021-03-26T15:46:19.865742Z",
     "start_time": "2021-03-26T15:46:19.572120Z"
    }
   },
   "outputs": [],
   "source": [
    "raw_data_schema = BQ_CLIENT.get_table(table=table_id).schema"
   ]
  },
  {
   "cell_type": "code",
   "execution_count": null,
   "metadata": {
    "ExecuteTime": {
     "end_time": "2021-03-26T15:46:20.893337Z",
     "start_time": "2021-03-26T15:46:20.457083Z"
    }
   },
   "outputs": [],
   "source": [
    "BQ_CLIENT.insert_rows(table=table_id, rows=row_to_insert, selected_fields=raw_data_schema, )"
   ]
  },
  {
   "cell_type": "markdown",
   "metadata": {},
   "source": [
    "####  Insert into raw_validations"
   ]
  },
  {
   "cell_type": "code",
   "execution_count": null,
   "metadata": {
    "ExecuteTime": {
     "end_time": "2021-03-24T17:46:37.964009Z",
     "start_time": "2021-03-24T17:46:36.758860Z"
    }
   },
   "outputs": [],
   "source": [
    "errors = BQ_CLIENT.insert_rows_json(table_id, row_to_insert)  # Make an API request.\n",
    "if errors == []:\n",
    "    print(\"New rows have been added.\")\n",
    "else:\n",
    "    print(\"Encountered errors while inserting rows: {}\".format(errors))"
   ]
  },
  {
   "cell_type": "code",
   "execution_count": null,
   "metadata": {
    "ExecuteTime": {
     "end_time": "2021-03-24T17:30:55.126958Z",
     "start_time": "2021-03-24T17:30:55.121933Z"
    }
   },
   "outputs": [],
   "source": []
  },
  {
   "cell_type": "code",
   "execution_count": null,
   "metadata": {},
   "outputs": [],
   "source": []
  }
 ],
 "metadata": {
  "kernelspec": {
   "display_name": "Python 3",
   "language": "python",
   "name": "python3"
  },
  "language_info": {
   "codemirror_mode": {
    "name": "ipython",
    "version": 3
   },
   "file_extension": ".py",
   "mimetype": "text/x-python",
   "name": "python",
   "nbconvert_exporter": "python",
   "pygments_lexer": "ipython3",
   "version": "3.7.7"
  },
  "toc": {
   "base_numbering": 1,
   "nav_menu": {},
   "number_sections": true,
   "sideBar": true,
   "skip_h1_title": false,
   "title_cell": "Table of Contents",
   "title_sidebar": "Contents",
   "toc_cell": false,
   "toc_position": {},
   "toc_section_display": true,
   "toc_window_display": false
  },
  "varInspector": {
   "cols": {
    "lenName": 16,
    "lenType": 16,
    "lenVar": 40
   },
   "kernels_config": {
    "python": {
     "delete_cmd_postfix": "",
     "delete_cmd_prefix": "del ",
     "library": "var_list.py",
     "varRefreshCmd": "print(var_dic_list())"
    },
    "r": {
     "delete_cmd_postfix": ") ",
     "delete_cmd_prefix": "rm(",
     "library": "var_list.r",
     "varRefreshCmd": "cat(var_dic_list()) "
    }
   },
   "types_to_exclude": [
    "module",
    "function",
    "builtin_function_or_method",
    "instance",
    "_Feature"
   ],
   "window_display": false
  }
 },
 "nbformat": 4,
 "nbformat_minor": 4
}
