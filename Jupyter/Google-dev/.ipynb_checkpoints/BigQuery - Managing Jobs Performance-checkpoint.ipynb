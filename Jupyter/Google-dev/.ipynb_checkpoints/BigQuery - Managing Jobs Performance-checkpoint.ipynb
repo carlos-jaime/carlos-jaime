{
 "cells": [
  {
   "cell_type": "code",
   "execution_count": 1,
   "metadata": {
    "ExecuteTime": {
     "end_time": "2021-04-13T18:29:15.644615Z",
     "start_time": "2021-04-13T18:29:15.641589Z"
    }
   },
   "outputs": [],
   "source": [
    "# Print every output from a specific cell\n",
    "from IPython.core.interactiveshell import InteractiveShell\n",
    "InteractiveShell.ast_node_interactivity = \"all\""
   ]
  },
  {
   "cell_type": "code",
   "execution_count": 2,
   "metadata": {
    "ExecuteTime": {
     "end_time": "2021-04-13T18:29:15.879940Z",
     "start_time": "2021-04-13T18:29:15.869939Z"
    }
   },
   "outputs": [
    {
     "data": {
      "text/html": [
       "<style>.container { width:80% !important; }</style>"
      ],
      "text/plain": [
       "<IPython.core.display.HTML object>"
      ]
     },
     "metadata": {},
     "output_type": "display_data"
    }
   ],
   "source": [
    "# Adjusting the screen size\n",
    "from IPython.core.display import display, HTML\n",
    "display(HTML(\"<style>.container { width:80% !important; }</style>\"))"
   ]
  },
  {
   "cell_type": "markdown",
   "metadata": {},
   "source": [
    "### Manipulación de metadata de Jobs de BigQuery\n",
    " Requiere json file de credenciales"
   ]
  },
  {
   "cell_type": "markdown",
   "metadata": {},
   "source": [
    "- documentation : https://cloud.google.com/bigquery/docs/managing-jobs#python_2 \n",
    "- Python Client for Google BigQuery : https://googleapis.dev/python/bigquery/latest/reference.html#job"
   ]
  },
  {
   "cell_type": "code",
   "execution_count": 3,
   "metadata": {
    "ExecuteTime": {
     "end_time": "2021-04-13T18:29:16.639841Z",
     "start_time": "2021-04-13T18:29:16.637840Z"
    }
   },
   "outputs": [],
   "source": [
    "#! pip freeze\n",
    "#! pip install --upgrade google-cloud-bigquery"
   ]
  },
  {
   "cell_type": "code",
   "execution_count": 4,
   "metadata": {
    "ExecuteTime": {
     "end_time": "2021-04-13T19:29:17.701228Z",
     "start_time": "2021-04-13T19:29:17.698208Z"
    }
   },
   "outputs": [],
   "source": [
    "from google.cloud import bigquery\n",
    "import json\n",
    "from datetime import datetime, timezone\n",
    "import pytz\n",
    "\n",
    "import pandas as pd\n",
    "\n",
    "timezone = pytz.timezone(\"UTC\")"
   ]
  },
  {
   "cell_type": "code",
   "execution_count": 5,
   "metadata": {
    "ExecuteTime": {
     "end_time": "2021-04-13T18:33:35.753600Z",
     "start_time": "2021-04-13T18:33:35.738604Z"
    }
   },
   "outputs": [],
   "source": [
    "GCP_CREDENTIALS = os.environ[\"GOOGLE_APPLICATION_CREDENTIALS\"]\n",
    "GCP_CREDENTIALS\n",
    "BQ_CLIENT = bigquery.Client.from_service_account_json(GCP_CREDENTIALS)"
   ]
  },
  {
   "cell_type": "markdown",
   "metadata": {},
   "source": [
    "# Jobs todos los proyectos"
   ]
  },
  {
   "cell_type": "code",
   "execution_count": 6,
   "metadata": {
    "ExecuteTime": {
     "end_time": "2021-04-13T19:00:24.059448Z",
     "start_time": "2021-04-13T19:00:24.056434Z"
    }
   },
   "outputs": [],
   "source": [
    "list_project = ['peya-bi-tools-pro', 'peya-cx-analytics','peya-delivery-and-support','peya-engineering','peya-food-and-groceries','peya-fraud-and-fintech','peya-growth-and-onboarding','peya-data-origins-pro']\n"
   ]
  },
  {
   "cell_type": "code",
   "execution_count": 7,
   "metadata": {},
   "outputs": [],
   "source": [
    "# https://googleapis.dev/python/bigquery/latest/generated/google.cloud.bigquery.job.QueryPlanEntry.html"
   ]
  },
  {
   "cell_type": "code",
   "execution_count": 10,
   "metadata": {},
   "outputs": [],
   "source": [
    "jobs = [\n",
    "    ['bquxjob_2e00d6b6_1796c1af610','peya-food-and-groceries'],\n",
    "    ['job_i8EHU_DXMmiOmrI7vXkfLM9wphra','peya-food-and-groceries']\n",
    "       ]\n",
    "\n",
    "default_proyect_id = 'peya-data-qlty-pro'"
   ]
  },
  {
   "cell_type": "code",
   "execution_count": 11,
   "metadata": {
    "ExecuteTime": {
     "end_time": "2021-04-13T18:29:22.082982Z",
     "start_time": "2021-04-13T18:29:20.483453Z"
    }
   },
   "outputs": [
    {
     "name": "stdout",
     "output_type": "stream",
     "text": [
      "\n",
      "        Job Id: bquxjob_2e00d6b6_1796c1af610\n",
      "          User -> carlos.jaime@pedidosya.com\n",
      "          Created -> 2021-05-14 18:20:50.125000+00:00\n",
      "          Average Slots Usage -> 75.38852326207787\n",
      "        \n",
      "\n",
      "        Job Id: job_i8EHU_DXMmiOmrI7vXkfLM9wphra\n",
      "          User -> rodrigo.pizzano@pedidosya.com\n",
      "          Created -> 2021-05-12 15:10:19.998000+00:00\n",
      "          Average Slots Usage -> 149.16530712530712\n",
      "        \n"
     ]
    }
   ],
   "source": [
    "for job in jobs:\n",
    "    try:\n",
    "        project_id = job[1]\n",
    "    except IndexError:\n",
    "        project_id = default_proyect_id\n",
    "        \n",
    "    job_id = job[0]\n",
    "    job = BQ_CLIENT.get_job(job_id=job_id, project=project_id)\n",
    "    \n",
    "    delta = job.ended - job.started\n",
    "    avg_slots_usage = job.slot_millis / int(delta.total_seconds() * 1000) # milliseconds\n",
    "\n",
    "    print(\n",
    "        f\"\"\"\n",
    "        Job Id: {job_id}\n",
    "          User -> {job.user_email}\n",
    "          Created -> {job.started}\n",
    "          Average Slots Usage -> {avg_slots_usage}\n",
    "        \"\"\")\n",
    "    "
   ]
  },
  {
   "cell_type": "code",
   "execution_count": null,
   "metadata": {},
   "outputs": [],
   "source": []
  },
  {
   "cell_type": "code",
   "execution_count": null,
   "metadata": {},
   "outputs": [],
   "source": [
    "for QueryPlanEntry in job.query_plan:\n",
    "    print('Entry')\n",
    "    print(f\"\"\"{QueryPlanEntry.name}\n",
    "        Input Stages:{QueryPlanEntry.} \n",
    "        Steps:\"\"\"\n",
    "    )\n",
    "    for QueryPlanEntryStep  in QueryPlanEntry.steps:\n",
    "        print(f\"\"\"\n",
    "            {QueryPlanEntryStep.kind}\n",
    "                {QueryPlanEntryStep.substeps}\n",
    "        \"\"\")\n"
   ]
  },
  {
   "cell_type": "code",
   "execution_count": null,
   "metadata": {
    "ExecuteTime": {
     "end_time": "2021-04-13T18:29:22.177211Z",
     "start_time": "2021-04-13T18:29:22.173217Z"
    }
   },
   "outputs": [],
   "source": [
    "job.estimated_bytes_processed"
   ]
  },
  {
   "cell_type": "code",
   "execution_count": null,
   "metadata": {
    "ExecuteTime": {
     "end_time": "2021-04-13T18:29:22.392876Z",
     "start_time": "2021-04-13T18:29:22.388872Z"
    }
   },
   "outputs": [],
   "source": [
    "job.total_bytes_processed"
   ]
  },
  {
   "cell_type": "code",
   "execution_count": null,
   "metadata": {
    "ExecuteTime": {
     "end_time": "2021-04-13T18:29:22.565532Z",
     "start_time": "2021-04-13T18:29:22.559532Z"
    }
   },
   "outputs": [],
   "source": [
    "job.query"
   ]
  },
  {
   "cell_type": "code",
   "execution_count": null,
   "metadata": {},
   "outputs": [],
   "source": []
  },
  {
   "cell_type": "code",
   "execution_count": null,
   "metadata": {},
   "outputs": [],
   "source": []
  },
  {
   "cell_type": "code",
   "execution_count": null,
   "metadata": {
    "ExecuteTime": {
     "end_time": "2021-04-13T18:33:08.998982Z",
     "start_time": "2021-04-13T18:33:08.106589Z"
    }
   },
   "outputs": [],
   "source": []
  },
  {
   "cell_type": "code",
   "execution_count": null,
   "metadata": {},
   "outputs": [],
   "source": []
  }
 ],
 "metadata": {
  "kernelspec": {
   "display_name": "Python 3",
   "language": "python",
   "name": "python3"
  },
  "language_info": {
   "codemirror_mode": {
    "name": "ipython",
    "version": 3
   },
   "file_extension": ".py",
   "mimetype": "text/x-python",
   "name": "python",
   "nbconvert_exporter": "python",
   "pygments_lexer": "ipython3",
   "version": "3.7.7"
  },
  "toc": {
   "base_numbering": 1,
   "nav_menu": {},
   "number_sections": true,
   "sideBar": true,
   "skip_h1_title": false,
   "title_cell": "Table of Contents",
   "title_sidebar": "Contents",
   "toc_cell": false,
   "toc_position": {},
   "toc_section_display": true,
   "toc_window_display": false
  },
  "varInspector": {
   "cols": {
    "lenName": 16,
    "lenType": 16,
    "lenVar": 40
   },
   "kernels_config": {
    "python": {
     "delete_cmd_postfix": "",
     "delete_cmd_prefix": "del ",
     "library": "var_list.py",
     "varRefreshCmd": "print(var_dic_list())"
    },
    "r": {
     "delete_cmd_postfix": ") ",
     "delete_cmd_prefix": "rm(",
     "library": "var_list.r",
     "varRefreshCmd": "cat(var_dic_list()) "
    }
   },
   "types_to_exclude": [
    "module",
    "function",
    "builtin_function_or_method",
    "instance",
    "_Feature"
   ],
   "window_display": false
  }
 },
 "nbformat": 4,
 "nbformat_minor": 4
}
